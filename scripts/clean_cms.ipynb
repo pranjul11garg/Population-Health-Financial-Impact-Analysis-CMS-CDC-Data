{
 "cells": [
  {
   "cell_type": "markdown",
   "metadata": {},
   "source": [
    "## CMS Data Cleaning - Step by Step Summary\n",
    "\n",
    "### Problem\n",
    "The raw CMS inpatient data contained hospital-level records for all DRG codes (diagnosis-related groups). To analyze treatment costs for our three diseases at the state level, we needed to:\n",
    "- Filter to only Heart Failure, and COPD\n",
    "- Aggregate from hospital level to state level\n",
    "- Create weighted averages (so larger hospitals don't skew results)\n",
    "- Organize by disease so we can compare costs across diseases\n",
    "\n",
    "\n",
    "**Step 1: Load Data**\n",
    "- Loaded 146,427 rows from CMS inpatient dataset\n",
    "- 15 columns including provider info, DRG codes, and cost metrics\n",
    "\n",
    "**Step 2: Filter to 2 Diseases**\n",
    "- Kept only DRGs containing: HEART FAILURE, COPD/CHRONIC OBSTRUCTIVE\n",
    "- Removed all other diagnoses\n",
    "- Result: 5299 rows (2,962 Heart Failure + 2,337 COPD)\n",
    "\n",
    "**Step 3: Create Disease Column**\n",
    "- Created new \"Disease\" column by parsing DRG descriptions\n",
    "- Mapped DRGs to diseases: Heart_Failure, COPD\n",
    "- This allows us to track costs by disease type\n",
    "\n",
    "**Step 4: Keep Only Required Columns**\n",
    "- Kept: State, Disease, Total Discharges, Average Charges, Average Payment, Average Medicare Payment\n",
    "- Removed: Hospital details, DRG codes, provider info (not needed for state-level analysis)\n",
    "\n",
    "**Step 5: Remove Missing Values**\n",
    "- Removed rows where payment data was null/empty\n",
    "- Removed rows where covered charges, total payment, or Medicare payment was missing\n",
    "- Result: 5299 rows (no data loss)\n",
    "\n",
    "**Step 6: Remove Zero Discharge Rows**\n",
    "- Removed rows where Total_Discharges = 0 (records with no patient volume)\n",
    "- Result: 5299 rows (all rows had valid discharges)\n",
    "\n",
    "**Step 7: Create Weighted Columns**\n",
    "- Why weighted? Hospitals vary in size. A 100-bed hospital shouldn't have same weight as a 1,000-bed hospital.\n",
    "- Formula: Weighted_Payment = Average_Payment × Total_Discharges\n",
    "- Example: If cost is $10,000 per patient and hospital treated 500 patients, weighted = $5,000,000\n",
    "\n",
    "**Step 8: Aggregate by State and Disease**\n",
    "- Grouped all hospital records by state and disease\n",
    "- Summed total discharges and weighted payments for each state-disease combination\n",
    "- Result: 101 rows (51 states × 2 diseases = 102 combinations)\n",
    "\n",
    "**Step 9: Calculate Weighted Averages**\n",
    "- Formula: Weighted_Avg_Payment = Total_Weighted_Payment ÷ Total_Discharges\n",
    "- This gives us the true average cost per patient at the state level, weighted by hospital size\n",
    "- Example: If 50,000 patients total were treated across all hospitals in a state, this is the average cost per patient\n",
    "\n",
    "**Step 10: Keep Only Final Columns**\n",
    "- Kept: State, Disease, Total_Discharges, Avg_Total_Payment\n",
    "- This is all we need for the state-disease level cost analysis\n",
    "\n",
    "**Step 11: Pivot to Wide Format**\n",
    "- Changed from long format (one row per state-disease) to wide format (one row per state)\n",
    "- Created separate columns for each disease:\n",
    "  - COPD_Cost, Heart_Failure_Cost\n",
    "  - COPD_Discharges, Heart_Failure_Discharges\n",
    "- Result: 51 rows (one per state)\n",
    "\n",
    "**Step 12: Final Verification**\n",
    "- Verified all values are reasonable\n",
    "- Confirmed all 51 states have data for all three diseases\n",
    "\n",
    "\n",
    "**Why Weighted Averages?**\n",
    "\n",
    "Without weighting:\n",
    "- Small hospital with 10 patients at $20,000/patient\n",
    "- Large hospital with 1,000 patients at $10,000/patient\n",
    "- Simple average: ($20,000 + $10,000) / 2 = $15,000 **which is wrong!**\n",
    "\n",
    "With weighting:\n",
    "- Small: (10 × $20,000) = $200,000\n",
    "- Large: (1,000 × $10,000) = $10,000,000\n",
    "- Weighted average: $10,200,000 / 1,010 patients = $10,099 **which is Correct!**\n",
    "\n",
    "The weighted approach reflects reality: most patients (the 1,000) are treated at the large hospital at $10,000/patient.\n",
    "\n"
   ]
  },
  {
   "cell_type": "code",
   "execution_count": 1,
   "metadata": {},
   "outputs": [
    {
     "name": "stdout",
     "output_type": "stream",
     "text": [
      "Total CMS rows: 146427\n",
      "\n",
      "Columns available:\n",
      "['Rndrng_Prvdr_CCN', 'Rndrng_Prvdr_Org_Name', 'Rndrng_Prvdr_City', 'Rndrng_Prvdr_St', 'Rndrng_Prvdr_State_FIPS', 'Rndrng_Prvdr_Zip5', 'Rndrng_Prvdr_State_Abrvtn', 'Rndrng_Prvdr_RUCA', 'Rndrng_Prvdr_RUCA_Desc', 'DRG_Cd', 'DRG_Desc', 'Tot_Dschrgs', 'Avg_Submtd_Cvrd_Chrg', 'Avg_Tot_Pymt_Amt', 'Avg_Mdcr_Pymt_Amt']\n"
     ]
    }
   ],
   "source": [
    "# STEP 1: Load the data\n",
    "import pandas as pd\n",
    "cms = pd.read_csv(\"data/inpatient.csv\", encoding=\"windows-1252\", low_memory=False)\n",
    "\n",
    "print(f\"Total CMS rows: {len(cms)}\")\n",
    "print(f\"\\nColumns available:\")\n",
    "print(list(cms.columns))\n"
   ]
  },
  {
   "cell_type": "code",
   "execution_count": 2,
   "metadata": {},
   "outputs": [
    {
     "name": "stdout",
     "output_type": "stream",
     "text": [
      "DRGs containing 'HEART FAILURE':\n",
      "['HEART FAILURE AND SHOCK WITH MCC' 'HEART FAILURE AND SHOCK WITH CC'\n",
      " 'HEART FAILURE AND SHOCK WITHOUT CC/MCC']\n",
      "Count: 3\n",
      "\n",
      "\n",
      "DRGs containing 'COPD' or 'CHRONIC OBSTRUCTIVE':\n",
      "['CHRONIC OBSTRUCTIVE PULMONARY DISEASE WITH MCC'\n",
      " 'CHRONIC OBSTRUCTIVE PULMONARY DISEASE WITH CC'\n",
      " 'CHRONIC OBSTRUCTIVE PULMONARY DISEASE WITHOUT CC/MCC']\n",
      "Count: 3\n",
      "\n",
      "\n",
      "Total rows for each disease:\n",
      "Heart Failure: 2962 rows\n",
      "COPD: 2337 rows\n",
      "Total: 5299 rows\n"
     ]
    }
   ],
   "source": [
    "# STEP 2: Keep only the 2 diseases we want\n",
    "\n",
    "# Find DRGs related to our diseases\n",
    "print(\"DRGs containing 'HEART FAILURE':\")\n",
    "hf_drgs = cms[cms['DRG_Desc'].str.contains('HEART FAILURE', case=False, na=False)]['DRG_Desc'].unique()\n",
    "print(hf_drgs)\n",
    "print(f\"Count: {len(hf_drgs)}\\n\")\n",
    "\n",
    "print(\"\\nDRGs containing 'COPD' or 'CHRONIC OBSTRUCTIVE':\")\n",
    "copd_drgs = cms[cms['DRG_Desc'].str.contains('COPD|CHRONIC OBSTRUCTIVE', case=False, na=False)]['DRG_Desc'].unique()\n",
    "print(copd_drgs)\n",
    "print(f\"Count: {len(copd_drgs)}\\n\")\n",
    "\n",
    "\n",
    "\n",
    "print(\"\\nTotal rows for each disease:\")\n",
    "hf_rows = len(cms[cms['DRG_Desc'].str.contains('HEART FAILURE', case=False, na=False)])\n",
    "copd_rows = len(cms[cms['DRG_Desc'].str.contains('COPD|CHRONIC OBSTRUCTIVE', case=False, na=False)])\n",
    "\n",
    "print(f\"Heart Failure: {hf_rows} rows\")\n",
    "print(f\"COPD: {copd_rows} rows\")\n",
    "print(f\"Total: {hf_rows + copd_rows} rows\")"
   ]
  },
  {
   "cell_type": "code",
   "execution_count": 3,
   "metadata": {},
   "outputs": [
    {
     "name": "stdout",
     "output_type": "stream",
     "text": [
      "Rows after filtering to 2 diseases: 5299\n"
     ]
    }
   ],
   "source": [
    "cms = cms[\n",
    "    (cms[\"DRG_Desc\"].str.contains(\"HEART FAILURE\", case=False, na=False)) |\n",
    "    (cms[\"DRG_Desc\"].str.contains(\"COPD|CHRONIC OBSTRUCTIVE\", case=False, na=False))\n",
    "]\n",
    "print(f\"Rows after filtering to 2 diseases: {len(cms)}\")\n"
   ]
  },
  {
   "cell_type": "code",
   "execution_count": 4,
   "metadata": {},
   "outputs": [
    {
     "name": "stdout",
     "output_type": "stream",
     "text": [
      "Diseases created:\n",
      "Disease\n",
      "Heart_Failure    2962\n",
      "COPD             2337\n",
      "Name: count, dtype: int64\n"
     ]
    }
   ],
   "source": [
    "# STEP 3: Create disease column\n",
    "def get_disease(drg_desc):\n",
    "    if \"HEART FAILURE\" in drg_desc.upper():\n",
    "        return \"Heart_Failure\"\n",
    "    elif \"COPD\" in drg_desc.upper() or \"CHRONIC OBSTRUCTIVE\" in drg_desc.upper():\n",
    "        return \"COPD\"\n",
    "    return None\n",
    "\n",
    "cms[\"Disease\"] = cms[\"DRG_Desc\"].apply(get_disease)\n",
    "print(f\"Diseases created:\")\n",
    "print(cms[\"Disease\"].value_counts())"
   ]
  },
  {
   "cell_type": "code",
   "execution_count": 5,
   "metadata": {},
   "outputs": [],
   "source": [
    "# STEP 4: Keep only required columns\n",
    "cms = cms[[\n",
    "    \"Rndrng_Prvdr_State_Abrvtn\",\n",
    "    \"Disease\",\n",
    "    \"Tot_Dschrgs\",\n",
    "    \"Avg_Tot_Pymt_Amt\",\n",
    "]].copy()\n",
    "\n",
    "cms.rename(columns={\n",
    "    \"Rndrng_Prvdr_State_Abrvtn\": \"State\",\n",
    "    \"Tot_Dschrgs\": \"Total_Discharges\",\n",
    "    \"Avg_Tot_Pymt_Amt\": \"Avg_Total_Payment\",\n",
    "}, inplace=True)\n",
    "\n"
   ]
  },
  {
   "cell_type": "code",
   "execution_count": 6,
   "metadata": {},
   "outputs": [
    {
     "name": "stdout",
     "output_type": "stream",
     "text": [
      "\n",
      "STEP 5: REMOVE MISSING VALUES\n",
      "Rows before: 5299\n",
      "Rows after: 5299\n",
      "\n",
      "STEP 6: REMOVE ZERO DISCHARGE ROWS\n",
      "Rows before: 5299\n",
      "Rows after: 5299\n"
     ]
    }
   ],
   "source": [
    "# STEP 5: Remove missing values\n",
    "print(\"\\nSTEP 5: REMOVE MISSING VALUES\")\n",
    "print(f\"Rows before: {len(cms)}\")\n",
    "cms = cms.dropna(subset=[\"Avg_Total_Payment\"])\n",
    "print(f\"Rows after: {len(cms)}\")\n",
    "\n",
    "# STEP 6: Remove zero discharge rows\n",
    "print(\"\\nSTEP 6: REMOVE ZERO DISCHARGE ROWS\")\n",
    "print(f\"Rows before: {len(cms)}\")\n",
    "cms = cms[cms[\"Total_Discharges\"] > 0]\n",
    "print(f\"Rows after: {len(cms)}\")"
   ]
  },
  {
   "cell_type": "code",
   "execution_count": 7,
   "metadata": {},
   "outputs": [
    {
     "name": "stdout",
     "output_type": "stream",
     "text": [
      "Rows before aggregation: 5299\n",
      "Rows after aggregation: 102\n"
     ]
    }
   ],
   "source": [
    "# STEP 7: Create weighted columns\n",
    "cms[\"Weighted_Total_Payment\"] = cms[\"Avg_Total_Payment\"] * cms[\"Total_Discharges\"]\n",
    "\n",
    "# STEP 8: Aggregate by State and Disease\n",
    "print(f\"Rows before aggregation: {len(cms)}\")\n",
    "\n",
    "cms_state = cms.groupby([\"State\", \"Disease\"], as_index=False).agg({\n",
    "    \"Total_Discharges\": \"sum\",\n",
    "    \"Weighted_Total_Payment\": \"sum\",\n",
    "})\n",
    "\n",
    "print(f\"Rows after aggregation: {len(cms_state)}\")\n",
    "\n",
    "\n",
    "#  STEP 9: Calculate weighted average for Total Payment\n",
    "cms_state[\"Avg_Total_Payment\"] = cms_state[\"Weighted_Total_Payment\"] / cms_state[\"Total_Discharges\"]\n",
    "\n"
   ]
  },
  {
   "cell_type": "code",
   "execution_count": 8,
   "metadata": {},
   "outputs": [
    {
     "data": {
      "text/html": [
       "<div>\n",
       "<style scoped>\n",
       "    .dataframe tbody tr th:only-of-type {\n",
       "        vertical-align: middle;\n",
       "    }\n",
       "\n",
       "    .dataframe tbody tr th {\n",
       "        vertical-align: top;\n",
       "    }\n",
       "\n",
       "    .dataframe thead th {\n",
       "        text-align: right;\n",
       "    }\n",
       "</style>\n",
       "<table border=\"1\" class=\"dataframe\">\n",
       "  <thead>\n",
       "    <tr style=\"text-align: right;\">\n",
       "      <th></th>\n",
       "      <th>State</th>\n",
       "      <th>Disease</th>\n",
       "      <th>Total_Discharges</th>\n",
       "      <th>Avg_Total_Payment</th>\n",
       "    </tr>\n",
       "  </thead>\n",
       "  <tbody>\n",
       "    <tr>\n",
       "      <th>0</th>\n",
       "      <td>AK</td>\n",
       "      <td>COPD</td>\n",
       "      <td>110</td>\n",
       "      <td>16610.600000</td>\n",
       "    </tr>\n",
       "    <tr>\n",
       "      <th>1</th>\n",
       "      <td>AK</td>\n",
       "      <td>Heart_Failure</td>\n",
       "      <td>590</td>\n",
       "      <td>16814.910169</td>\n",
       "    </tr>\n",
       "    <tr>\n",
       "      <th>2</th>\n",
       "      <td>AL</td>\n",
       "      <td>COPD</td>\n",
       "      <td>1355</td>\n",
       "      <td>8025.652399</td>\n",
       "    </tr>\n",
       "    <tr>\n",
       "      <th>3</th>\n",
       "      <td>AL</td>\n",
       "      <td>Heart_Failure</td>\n",
       "      <td>4548</td>\n",
       "      <td>9643.388742</td>\n",
       "    </tr>\n",
       "    <tr>\n",
       "      <th>4</th>\n",
       "      <td>AR</td>\n",
       "      <td>COPD</td>\n",
       "      <td>829</td>\n",
       "      <td>7521.352232</td>\n",
       "    </tr>\n",
       "  </tbody>\n",
       "</table>\n",
       "</div>"
      ],
      "text/plain": [
       "  State        Disease  Total_Discharges  Avg_Total_Payment\n",
       "0    AK           COPD               110       16610.600000\n",
       "1    AK  Heart_Failure               590       16814.910169\n",
       "2    AL           COPD              1355        8025.652399\n",
       "3    AL  Heart_Failure              4548        9643.388742\n",
       "4    AR           COPD               829        7521.352232"
      ]
     },
     "execution_count": 8,
     "metadata": {},
     "output_type": "execute_result"
    }
   ],
   "source": [
    "\n",
    "# STEP 10: Keep only final columns\n",
    "cms_state = cms_state[[\n",
    "    \"State\",\n",
    "    \"Disease\",\n",
    "    \"Total_Discharges\",\n",
    "    \"Avg_Total_Payment\",\n",
    "]]\n",
    "cms_state.head()"
   ]
  },
  {
   "cell_type": "code",
   "execution_count": 9,
   "metadata": {},
   "outputs": [
    {
     "name": "stdout",
     "output_type": "stream",
     "text": [
      "Rows before pivot: 102\n",
      "Rows after pivot: 51\n"
     ]
    }
   ],
   "source": [
    "# STEP 11: Pivot to wide format\n",
    "print(f\"Rows before pivot: {len(cms_state)}\")\n",
    "\n",
    "# Pivot for costs\n",
    "cms_pivot = cms_state.pivot_table(\n",
    "    index=\"State\",\n",
    "    columns=\"Disease\",\n",
    "    values=\"Avg_Total_Payment\",\n",
    "    aggfunc=\"first\"\n",
    ").reset_index()\n",
    "cms_pivot.columns.name = None\n",
    "\n",
    "cms_pivot.rename(columns={\n",
    "    \"COPD\": \"COPD_Cost\",\n",
    "    \"Heart_Failure\": \"Heart_Failure_Cost\"\n",
    "}, inplace=True)\n",
    "\n",
    "print(f\"Rows after pivot: {len(cms_pivot)}\")\n"
   ]
  },
  {
   "cell_type": "code",
   "execution_count": 10,
   "metadata": {},
   "outputs": [
    {
     "data": {
      "text/html": [
       "<div>\n",
       "<style scoped>\n",
       "    .dataframe tbody tr th:only-of-type {\n",
       "        vertical-align: middle;\n",
       "    }\n",
       "\n",
       "    .dataframe tbody tr th {\n",
       "        vertical-align: top;\n",
       "    }\n",
       "\n",
       "    .dataframe thead th {\n",
       "        text-align: right;\n",
       "    }\n",
       "</style>\n",
       "<table border=\"1\" class=\"dataframe\">\n",
       "  <thead>\n",
       "    <tr style=\"text-align: right;\">\n",
       "      <th></th>\n",
       "      <th>State</th>\n",
       "      <th>COPD_Cost</th>\n",
       "      <th>Heart_Failure_Cost</th>\n",
       "    </tr>\n",
       "  </thead>\n",
       "  <tbody>\n",
       "    <tr>\n",
       "      <th>0</th>\n",
       "      <td>AK</td>\n",
       "      <td>16610.600000</td>\n",
       "      <td>16814.910169</td>\n",
       "    </tr>\n",
       "    <tr>\n",
       "      <th>1</th>\n",
       "      <td>AL</td>\n",
       "      <td>8025.652399</td>\n",
       "      <td>9643.388742</td>\n",
       "    </tr>\n",
       "    <tr>\n",
       "      <th>2</th>\n",
       "      <td>AR</td>\n",
       "      <td>7521.352232</td>\n",
       "      <td>8912.169380</td>\n",
       "    </tr>\n",
       "    <tr>\n",
       "      <th>3</th>\n",
       "      <td>AZ</td>\n",
       "      <td>8773.520249</td>\n",
       "      <td>10827.994527</td>\n",
       "    </tr>\n",
       "    <tr>\n",
       "      <th>4</th>\n",
       "      <td>CA</td>\n",
       "      <td>11831.609250</td>\n",
       "      <td>14486.320625</td>\n",
       "    </tr>\n",
       "  </tbody>\n",
       "</table>\n",
       "</div>"
      ],
      "text/plain": [
       "  State     COPD_Cost  Heart_Failure_Cost\n",
       "0    AK  16610.600000        16814.910169\n",
       "1    AL   8025.652399         9643.388742\n",
       "2    AR   7521.352232         8912.169380\n",
       "3    AZ   8773.520249        10827.994527\n",
       "4    CA  11831.609250        14486.320625"
      ]
     },
     "execution_count": 10,
     "metadata": {},
     "output_type": "execute_result"
    }
   ],
   "source": [
    "cms_pivot.head()"
   ]
  },
  {
   "cell_type": "code",
   "execution_count": 13,
   "metadata": {},
   "outputs": [
    {
     "name": "stdout",
     "output_type": "stream",
     "text": [
      "Number of states: 51\n",
      "\n",
      "Average costs by disease across all states:\n",
      "Heart Failure: $11,311\n",
      "COPD: $9,542\n",
      "\n",
      "Cost ranges by disease:\n",
      "Heart Failure: $8,585 to $16,815\n",
      "COPD: $7,419 to $16,611\n"
     ]
    }
   ],
   "source": [
    "# STEP 12: Final verification\n",
    "print(f\"Number of states: {len(cms_pivot)}\")\n",
    "print(f\"\\nAverage costs by disease across all states:\")\n",
    "print(f\"Heart Failure: ${cms_state[cms_state['Disease']=='Heart_Failure']['Avg_Total_Payment'].mean():,.0f}\")\n",
    "print(f\"COPD: ${cms_state[cms_state['Disease']=='COPD']['Avg_Total_Payment'].mean():,.0f}\")\n",
    "\n",
    "\n",
    "print(f\"\\nCost ranges by disease:\")\n",
    "print(f\"Heart Failure: ${cms_state[cms_state['Disease']=='Heart_Failure']['Avg_Total_Payment'].min():,.0f} to ${cms_state[cms_state['Disease']=='Heart_Failure']['Avg_Total_Payment'].max():,.0f}\")\n",
    "print(f\"COPD: ${cms_state[cms_state['Disease']=='COPD']['Avg_Total_Payment'].min():,.0f} to ${cms_state[cms_state['Disease']=='COPD']['Avg_Total_Payment'].max():,.0f}\")\n"
   ]
  },
  {
   "cell_type": "code",
   "execution_count": 14,
   "metadata": {},
   "outputs": [],
   "source": [
    "cms_pivot.to_csv(\"data/clean_cms.csv\", index=False)\n"
   ]
  }
 ],
 "metadata": {
  "kernelspec": {
   "display_name": "venv",
   "language": "python",
   "name": "python3"
  },
  "language_info": {
   "codemirror_mode": {
    "name": "ipython",
    "version": 3
   },
   "file_extension": ".py",
   "mimetype": "text/x-python",
   "name": "python",
   "nbconvert_exporter": "python",
   "pygments_lexer": "ipython3",
   "version": "3.13.1"
  }
 },
 "nbformat": 4,
 "nbformat_minor": 2
}
