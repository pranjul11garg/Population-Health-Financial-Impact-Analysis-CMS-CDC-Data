{
 "cells": [
  {
   "cell_type": "code",
   "execution_count": 1,
   "metadata": {},
   "outputs": [
    {
     "name": "stdout",
     "output_type": "stream",
     "text": [
      "Total CMS rows: 146427\n",
      "\n",
      "Columns available:\n",
      "['Rndrng_Prvdr_CCN', 'Rndrng_Prvdr_Org_Name', 'Rndrng_Prvdr_City', 'Rndrng_Prvdr_St', 'Rndrng_Prvdr_State_FIPS', 'Rndrng_Prvdr_Zip5', 'Rndrng_Prvdr_State_Abrvtn', 'Rndrng_Prvdr_RUCA', 'Rndrng_Prvdr_RUCA_Desc', 'DRG_Cd', 'DRG_Desc', 'Tot_Dschrgs', 'Avg_Submtd_Cvrd_Chrg', 'Avg_Tot_Pymt_Amt', 'Avg_Mdcr_Pymt_Amt']\n"
     ]
    }
   ],
   "source": [
    "# STEP 1: Load the data\n",
    "import pandas as pd\n",
    "cms = pd.read_csv(\"data/inpatient.csv\", encoding=\"windows-1252\", low_memory=False)\n",
    "\n",
    "print(f\"Total CMS rows: {len(cms)}\")\n",
    "print(f\"\\nColumns available:\")\n",
    "print(list(cms.columns))\n"
   ]
  },
  {
   "cell_type": "code",
   "execution_count": 2,
   "metadata": {},
   "outputs": [
    {
     "name": "stdout",
     "output_type": "stream",
     "text": [
      "\n",
      "Unique DRGs (first 20):\n",
      "['ECMO OR TRACHEOSTOMY WITH MV >96 HOURS OR PRINCIPAL DIAGNOSIS EXCEPT FACE, MOUTH AND NEC'\n",
      " 'CRANIOTOMY WITH MAJOR DEVICE IMPLANT OR ACUTE COMPLEX CNS PRINCIPAL DIAGNOSIS WITH MCC O'\n",
      " 'CRANIOTOMY WITH MAJOR DEVICE IMPLANT OR ACUTE COMPLEX CNS PRINCIPAL DIAGNOSIS WITHOUT MC'\n",
      " 'CRANIOTOMY AND ENDOVASCULAR INTRACRANIAL PROCEDURES WITH MCC'\n",
      " 'EXTRACRANIAL PROCEDURES WITH CC'\n",
      " 'EXTRACRANIAL PROCEDURES WITHOUT CC/MCC'\n",
      " 'DEGENERATIVE NERVOUS SYSTEM DISORDERS WITHOUT MCC'\n",
      " 'INTRACRANIAL HEMORRHAGE OR CEREBRAL INFARCTION WITH MCC'\n",
      " 'INTRACRANIAL HEMORRHAGE OR CEREBRAL INFARCTION WITH CC OR TPA IN 24 HOURS'\n",
      " 'TRANSIENT ISCHEMIA WITHOUT THROMBOLYTIC'\n",
      " 'TRAUMATIC STUPOR AND COMA <1 HOUR WITH MCC'\n",
      " 'OTHER DISORDERS OF NERVOUS SYSTEM WITH CC' 'SEIZURES WITH MCC'\n",
      " 'SEIZURES WITHOUT MCC' 'MAJOR CHEST PROCEDURES WITH MCC'\n",
      " 'OTHER RESPIRATORY SYSTEM O.R. PROCEDURES WITH MCC'\n",
      " 'RESPIRATORY INFECTIONS AND INFLAMMATIONS WITH MCC'\n",
      " 'RESPIRATORY INFECTIONS AND INFLAMMATIONS WITH CC'\n",
      " 'RESPIRATORY NEOPLASMS WITH MCC'\n",
      " 'PULMONARY EDEMA AND RESPIRATORY FAILURE']\n",
      "\n",
      "Total unique DRGs: 522\n"
     ]
    }
   ],
   "source": [
    "print(f\"\\nUnique DRGs (first 20):\")\n",
    "print(cms['DRG_Desc'].unique()[:20])\n",
    "\n",
    "print(f\"\\nTotal unique DRGs: {cms['DRG_Desc'].nunique()}\")"
   ]
  },
  {
   "cell_type": "code",
   "execution_count": 3,
   "metadata": {},
   "outputs": [
    {
     "name": "stdout",
     "output_type": "stream",
     "text": [
      "DRGs containing 'HEART FAILURE':\n",
      "['HEART FAILURE AND SHOCK WITH MCC' 'HEART FAILURE AND SHOCK WITH CC'\n",
      " 'HEART FAILURE AND SHOCK WITHOUT CC/MCC']\n",
      "Count: 3\n",
      "\n",
      "\n",
      "DRGs containing 'COPD' or 'CHRONIC OBSTRUCTIVE':\n",
      "['CHRONIC OBSTRUCTIVE PULMONARY DISEASE WITH MCC'\n",
      " 'CHRONIC OBSTRUCTIVE PULMONARY DISEASE WITH CC'\n",
      " 'CHRONIC OBSTRUCTIVE PULMONARY DISEASE WITHOUT CC/MCC']\n",
      "Count: 3\n",
      "\n",
      "\n",
      "DRGs containing 'DIABETES':\n",
      "['DIABETES WITH MCC' 'DIABETES WITH CC' 'DIABETES WITHOUT CC/MCC']\n",
      "Count: 3\n",
      "\n",
      "\n",
      "Total rows for each disease:\n",
      "Heart Failure: 2962 rows\n",
      "COPD: 2337 rows\n",
      "Diabetes: 2278 rows\n",
      "Total: 7577 rows\n"
     ]
    }
   ],
   "source": [
    "# STEP 2: Keep only the 3 diseases we want\n",
    "\n",
    "# Find DRGs related to our three diseases\n",
    "print(\"DRGs containing 'HEART FAILURE':\")\n",
    "hf_drgs = cms[cms['DRG_Desc'].str.contains('HEART FAILURE', case=False, na=False)]['DRG_Desc'].unique()\n",
    "print(hf_drgs)\n",
    "print(f\"Count: {len(hf_drgs)}\\n\")\n",
    "\n",
    "print(\"\\nDRGs containing 'COPD' or 'CHRONIC OBSTRUCTIVE':\")\n",
    "copd_drgs = cms[cms['DRG_Desc'].str.contains('COPD|CHRONIC OBSTRUCTIVE', case=False, na=False)]['DRG_Desc'].unique()\n",
    "print(copd_drgs)\n",
    "print(f\"Count: {len(copd_drgs)}\\n\")\n",
    "\n",
    "print(\"\\nDRGs containing 'DIABETES':\")\n",
    "diabetes_drgs = cms[cms['DRG_Desc'].str.contains('DIABETES', case=False, na=False)]['DRG_Desc'].unique()\n",
    "print(diabetes_drgs)\n",
    "print(f\"Count: {len(diabetes_drgs)}\\n\")\n",
    "\n",
    "print(\"\\nTotal rows for each disease:\")\n",
    "hf_rows = len(cms[cms['DRG_Desc'].str.contains('HEART FAILURE', case=False, na=False)])\n",
    "copd_rows = len(cms[cms['DRG_Desc'].str.contains('COPD|CHRONIC OBSTRUCTIVE', case=False, na=False)])\n",
    "diabetes_rows = len(cms[cms['DRG_Desc'].str.contains('DIABETES', case=False, na=False)])\n",
    "\n",
    "print(f\"Heart Failure: {hf_rows} rows\")\n",
    "print(f\"COPD: {copd_rows} rows\")\n",
    "print(f\"Diabetes: {diabetes_rows} rows\")\n",
    "print(f\"Total: {hf_rows + copd_rows + diabetes_rows} rows\")"
   ]
  },
  {
   "cell_type": "code",
   "execution_count": 4,
   "metadata": {},
   "outputs": [
    {
     "name": "stdout",
     "output_type": "stream",
     "text": [
      "Rows after filtering to 3 diseases: 7577\n"
     ]
    }
   ],
   "source": [
    "cms = cms[\n",
    "    (cms[\"DRG_Desc\"].str.contains(\"HEART FAILURE\", case=False, na=False)) |\n",
    "    (cms[\"DRG_Desc\"].str.contains(\"COPD|CHRONIC OBSTRUCTIVE\", case=False, na=False)) |\n",
    "    (cms[\"DRG_Desc\"].str.contains(\"DIABETES\", case=False, na=False))\n",
    "]\n",
    "print(f\"Rows after filtering to 3 diseases: {len(cms)}\")\n"
   ]
  },
  {
   "cell_type": "code",
   "execution_count": 5,
   "metadata": {},
   "outputs": [
    {
     "name": "stdout",
     "output_type": "stream",
     "text": [
      "Diseases created:\n",
      "Disease\n",
      "Heart_Failure    2962\n",
      "COPD             2337\n",
      "Diabetes         2278\n",
      "Name: count, dtype: int64\n"
     ]
    }
   ],
   "source": [
    "# STEP 3: Create disease column\n",
    "def get_disease(drg_desc):\n",
    "    if \"HEART FAILURE\" in drg_desc.upper():\n",
    "        return \"Heart_Failure\"\n",
    "    elif \"COPD\" in drg_desc.upper() or \"CHRONIC OBSTRUCTIVE\" in drg_desc.upper():\n",
    "        return \"COPD\"\n",
    "    elif \"DIABETES\" in drg_desc.upper():\n",
    "        return \"Diabetes\"\n",
    "    return None\n",
    "\n",
    "cms[\"Disease\"] = cms[\"DRG_Desc\"].apply(get_disease)\n",
    "print(f\"Diseases created:\")\n",
    "print(cms[\"Disease\"].value_counts())"
   ]
  },
  {
   "cell_type": "code",
   "execution_count": 6,
   "metadata": {},
   "outputs": [],
   "source": [
    "# STEP 4: Keep only required columns\n",
    "cms = cms[[\n",
    "    \"Rndrng_Prvdr_State_Abrvtn\",\n",
    "    \"Disease\",\n",
    "    \"Tot_Dschrgs\",\n",
    "    \"Avg_Tot_Pymt_Amt\",\n",
    "]].copy()\n",
    "\n",
    "cms.rename(columns={\n",
    "    \"Rndrng_Prvdr_State_Abrvtn\": \"State\",\n",
    "    \"Tot_Dschrgs\": \"Total_Discharges\",\n",
    "    \"Avg_Tot_Pymt_Amt\": \"Avg_Total_Payment\",\n",
    "}, inplace=True)\n",
    "\n"
   ]
  },
  {
   "cell_type": "code",
   "execution_count": 7,
   "metadata": {},
   "outputs": [
    {
     "name": "stdout",
     "output_type": "stream",
     "text": [
      "\n",
      "STEP 5: REMOVE MISSING VALUES\n",
      "Rows before: 7577\n",
      "Rows after: 7577\n",
      "\n",
      "STEP 6: REMOVE ZERO DISCHARGE ROWS\n",
      "Rows before: 7577\n",
      "Rows after: 7577\n"
     ]
    }
   ],
   "source": [
    "# STEP 5: Remove missing values\n",
    "print(\"\\nSTEP 5: REMOVE MISSING VALUES\")\n",
    "print(f\"Rows before: {len(cms)}\")\n",
    "cms = cms.dropna(subset=[\"Avg_Total_Payment\"])\n",
    "print(f\"Rows after: {len(cms)}\")\n",
    "\n",
    "# STEP 6: Remove zero discharge rows\n",
    "print(\"\\nSTEP 6: REMOVE ZERO DISCHARGE ROWS\")\n",
    "print(f\"Rows before: {len(cms)}\")\n",
    "cms = cms[cms[\"Total_Discharges\"] > 0]\n",
    "print(f\"Rows after: {len(cms)}\")"
   ]
  },
  {
   "cell_type": "code",
   "execution_count": 8,
   "metadata": {},
   "outputs": [
    {
     "name": "stdout",
     "output_type": "stream",
     "text": [
      "Rows before aggregation: 7577\n",
      "Rows after aggregation: 153\n"
     ]
    }
   ],
   "source": [
    "# STEP 7: Create weighted columns\n",
    "cms[\"Weighted_Total_Payment\"] = cms[\"Avg_Total_Payment\"] * cms[\"Total_Discharges\"]\n",
    "\n",
    "# STEP 8: Aggregate by State and Disease\n",
    "print(f\"Rows before aggregation: {len(cms)}\")\n",
    "\n",
    "cms_state = cms.groupby([\"State\", \"Disease\"], as_index=False).agg({\n",
    "    \"Total_Discharges\": \"sum\",\n",
    "    \"Weighted_Total_Payment\": \"sum\",\n",
    "})\n",
    "\n",
    "print(f\"Rows after aggregation: {len(cms_state)}\")\n",
    "\n",
    "\n",
    "#  STEP 9: Calculate weighted average for Total Payment\n",
    "cms_state[\"Avg_Total_Payment\"] = cms_state[\"Weighted_Total_Payment\"] / cms_state[\"Total_Discharges\"]\n",
    "\n"
   ]
  },
  {
   "cell_type": "code",
   "execution_count": 9,
   "metadata": {},
   "outputs": [
    {
     "data": {
      "text/html": [
       "<div>\n",
       "<style scoped>\n",
       "    .dataframe tbody tr th:only-of-type {\n",
       "        vertical-align: middle;\n",
       "    }\n",
       "\n",
       "    .dataframe tbody tr th {\n",
       "        vertical-align: top;\n",
       "    }\n",
       "\n",
       "    .dataframe thead th {\n",
       "        text-align: right;\n",
       "    }\n",
       "</style>\n",
       "<table border=\"1\" class=\"dataframe\">\n",
       "  <thead>\n",
       "    <tr style=\"text-align: right;\">\n",
       "      <th></th>\n",
       "      <th>State</th>\n",
       "      <th>Disease</th>\n",
       "      <th>Total_Discharges</th>\n",
       "      <th>Avg_Total_Payment</th>\n",
       "    </tr>\n",
       "  </thead>\n",
       "  <tbody>\n",
       "    <tr>\n",
       "      <th>0</th>\n",
       "      <td>AK</td>\n",
       "      <td>COPD</td>\n",
       "      <td>110</td>\n",
       "      <td>16610.600000</td>\n",
       "    </tr>\n",
       "    <tr>\n",
       "      <th>1</th>\n",
       "      <td>AK</td>\n",
       "      <td>Diabetes</td>\n",
       "      <td>68</td>\n",
       "      <td>12859.014706</td>\n",
       "    </tr>\n",
       "    <tr>\n",
       "      <th>2</th>\n",
       "      <td>AK</td>\n",
       "      <td>Heart_Failure</td>\n",
       "      <td>590</td>\n",
       "      <td>16814.910169</td>\n",
       "    </tr>\n",
       "    <tr>\n",
       "      <th>3</th>\n",
       "      <td>AL</td>\n",
       "      <td>COPD</td>\n",
       "      <td>1355</td>\n",
       "      <td>8025.652399</td>\n",
       "    </tr>\n",
       "    <tr>\n",
       "      <th>4</th>\n",
       "      <td>AL</td>\n",
       "      <td>Diabetes</td>\n",
       "      <td>684</td>\n",
       "      <td>8570.195906</td>\n",
       "    </tr>\n",
       "  </tbody>\n",
       "</table>\n",
       "</div>"
      ],
      "text/plain": [
       "  State        Disease  Total_Discharges  Avg_Total_Payment\n",
       "0    AK           COPD               110       16610.600000\n",
       "1    AK       Diabetes                68       12859.014706\n",
       "2    AK  Heart_Failure               590       16814.910169\n",
       "3    AL           COPD              1355        8025.652399\n",
       "4    AL       Diabetes               684        8570.195906"
      ]
     },
     "execution_count": 9,
     "metadata": {},
     "output_type": "execute_result"
    }
   ],
   "source": [
    "\n",
    "# STEP 10: Keep only final columns\n",
    "cms_state = cms_state[[\n",
    "    \"State\",\n",
    "    \"Disease\",\n",
    "    \"Total_Discharges\",\n",
    "    \"Avg_Total_Payment\",\n",
    "]]\n",
    "cms_state.head()"
   ]
  },
  {
   "cell_type": "code",
   "execution_count": 10,
   "metadata": {},
   "outputs": [
    {
     "name": "stdout",
     "output_type": "stream",
     "text": [
      "Rows before pivot: 153\n",
      "Rows after pivot: 51\n"
     ]
    }
   ],
   "source": [
    "# STEP 11: Pivot to wide format\n",
    "print(f\"Rows before pivot: {len(cms_state)}\")\n",
    "\n",
    "# Pivot for costs\n",
    "cms_pivot_cost = cms_state.pivot_table(\n",
    "    index=\"State\",\n",
    "    columns=\"Disease\",\n",
    "    values=\"Avg_Total_Payment\",\n",
    "    aggfunc=\"first\"\n",
    ").reset_index()\n",
    "cms_pivot_cost.columns.name = None\n",
    "\n",
    "# Pivot for discharges\n",
    "cms_pivot_discharge = cms_state.pivot_table(\n",
    "    index=\"State\",\n",
    "    columns=\"Disease\",\n",
    "    values=\"Total_Discharges\",\n",
    "    aggfunc=\"first\"\n",
    ").reset_index()\n",
    "cms_pivot_discharge.columns.name = None\n",
    "\n",
    "# Rename columns\n",
    "cms_pivot_cost.rename(columns={\n",
    "    \"COPD\": \"COPD_Cost\",\n",
    "    \"Diabetes\": \"Diabetes_Cost\",\n",
    "    \"Heart_Failure\": \"Heart_Failure_Cost\"\n",
    "}, inplace=True)\n",
    "\n",
    "cms_pivot_discharge.rename(columns={\n",
    "    \"COPD\": \"COPD_Discharges\",\n",
    "    \"Diabetes\": \"Diabetes_Discharges\",\n",
    "    \"Heart_Failure\": \"Heart_Failure_Discharges\"\n",
    "}, inplace=True)\n",
    "\n",
    "# Merge both pivots on State\n",
    "cms_pivot = cms_pivot_cost.merge(cms_pivot_discharge, on=\"State\")\n",
    "\n",
    "print(f\"Rows after pivot: {len(cms_pivot)}\")\n"
   ]
  },
  {
   "cell_type": "code",
   "execution_count": 11,
   "metadata": {},
   "outputs": [
    {
     "data": {
      "text/html": [
       "<div>\n",
       "<style scoped>\n",
       "    .dataframe tbody tr th:only-of-type {\n",
       "        vertical-align: middle;\n",
       "    }\n",
       "\n",
       "    .dataframe tbody tr th {\n",
       "        vertical-align: top;\n",
       "    }\n",
       "\n",
       "    .dataframe thead th {\n",
       "        text-align: right;\n",
       "    }\n",
       "</style>\n",
       "<table border=\"1\" class=\"dataframe\">\n",
       "  <thead>\n",
       "    <tr style=\"text-align: right;\">\n",
       "      <th></th>\n",
       "      <th>State</th>\n",
       "      <th>COPD_Cost</th>\n",
       "      <th>Diabetes_Cost</th>\n",
       "      <th>Heart_Failure_Cost</th>\n",
       "      <th>COPD_Discharges</th>\n",
       "      <th>Diabetes_Discharges</th>\n",
       "      <th>Heart_Failure_Discharges</th>\n",
       "    </tr>\n",
       "  </thead>\n",
       "  <tbody>\n",
       "    <tr>\n",
       "      <th>0</th>\n",
       "      <td>AK</td>\n",
       "      <td>16610.600000</td>\n",
       "      <td>12859.014706</td>\n",
       "      <td>16814.910169</td>\n",
       "      <td>110</td>\n",
       "      <td>68</td>\n",
       "      <td>590</td>\n",
       "    </tr>\n",
       "    <tr>\n",
       "      <th>1</th>\n",
       "      <td>AL</td>\n",
       "      <td>8025.652399</td>\n",
       "      <td>8570.195906</td>\n",
       "      <td>9643.388742</td>\n",
       "      <td>1355</td>\n",
       "      <td>684</td>\n",
       "      <td>4548</td>\n",
       "    </tr>\n",
       "    <tr>\n",
       "      <th>2</th>\n",
       "      <td>AR</td>\n",
       "      <td>7521.352232</td>\n",
       "      <td>8574.209581</td>\n",
       "      <td>8912.169380</td>\n",
       "      <td>829</td>\n",
       "      <td>501</td>\n",
       "      <td>3501</td>\n",
       "    </tr>\n",
       "    <tr>\n",
       "      <th>3</th>\n",
       "      <td>AZ</td>\n",
       "      <td>8773.520249</td>\n",
       "      <td>9925.730189</td>\n",
       "      <td>10827.994527</td>\n",
       "      <td>963</td>\n",
       "      <td>530</td>\n",
       "      <td>5116</td>\n",
       "    </tr>\n",
       "    <tr>\n",
       "      <th>4</th>\n",
       "      <td>CA</td>\n",
       "      <td>11831.609250</td>\n",
       "      <td>13126.219394</td>\n",
       "      <td>14486.320625</td>\n",
       "      <td>4865</td>\n",
       "      <td>4125</td>\n",
       "      <td>28538</td>\n",
       "    </tr>\n",
       "  </tbody>\n",
       "</table>\n",
       "</div>"
      ],
      "text/plain": [
       "  State     COPD_Cost  Diabetes_Cost  Heart_Failure_Cost  COPD_Discharges  \\\n",
       "0    AK  16610.600000   12859.014706        16814.910169              110   \n",
       "1    AL   8025.652399    8570.195906         9643.388742             1355   \n",
       "2    AR   7521.352232    8574.209581         8912.169380              829   \n",
       "3    AZ   8773.520249    9925.730189        10827.994527              963   \n",
       "4    CA  11831.609250   13126.219394        14486.320625             4865   \n",
       "\n",
       "   Diabetes_Discharges  Heart_Failure_Discharges  \n",
       "0                   68                       590  \n",
       "1                  684                      4548  \n",
       "2                  501                      3501  \n",
       "3                  530                      5116  \n",
       "4                 4125                     28538  "
      ]
     },
     "execution_count": 11,
     "metadata": {},
     "output_type": "execute_result"
    }
   ],
   "source": [
    "cms_pivot.head()"
   ]
  },
  {
   "cell_type": "code",
   "execution_count": 13,
   "metadata": {},
   "outputs": [
    {
     "name": "stdout",
     "output_type": "stream",
     "text": [
      "Number of states: 51\n",
      "\n",
      "Average costs by disease across all states:\n",
      "Heart Failure: $11,311\n",
      "COPD: $9,542\n",
      "Diabetes: $10,443\n",
      "\n",
      "Cost ranges by disease:\n",
      "Heart Failure: $8,585 to $16,815\n",
      "COPD: $7,419 to $16,611\n",
      "Diabetes: $7,666 to $15,267\n"
     ]
    }
   ],
   "source": [
    "# STEP 12: Final verification\n",
    "print(f\"Number of states: {len(cms_pivot)}\")\n",
    "print(f\"\\nAverage costs by disease across all states:\")\n",
    "print(f\"Heart Failure: ${cms_state[cms_state['Disease']=='Heart_Failure']['Avg_Total_Payment'].mean():,.0f}\")\n",
    "print(f\"COPD: ${cms_state[cms_state['Disease']=='COPD']['Avg_Total_Payment'].mean():,.0f}\")\n",
    "print(f\"Diabetes: ${cms_state[cms_state['Disease']=='Diabetes']['Avg_Total_Payment'].mean():,.0f}\")\n",
    "\n",
    "print(f\"\\nCost ranges by disease:\")\n",
    "print(f\"Heart Failure: ${cms_state[cms_state['Disease']=='Heart_Failure']['Avg_Total_Payment'].min():,.0f} to ${cms_state[cms_state['Disease']=='Heart_Failure']['Avg_Total_Payment'].max():,.0f}\")\n",
    "print(f\"COPD: ${cms_state[cms_state['Disease']=='COPD']['Avg_Total_Payment'].min():,.0f} to ${cms_state[cms_state['Disease']=='COPD']['Avg_Total_Payment'].max():,.0f}\")\n",
    "print(f\"Diabetes: ${cms_state[cms_state['Disease']=='Diabetes']['Avg_Total_Payment'].min():,.0f} to ${cms_state[cms_state['Disease']=='Diabetes']['Avg_Total_Payment'].max():,.0f}\")\n",
    "\n"
   ]
  }
 ],
 "metadata": {
  "kernelspec": {
   "display_name": "venv",
   "language": "python",
   "name": "python3"
  },
  "language_info": {
   "codemirror_mode": {
    "name": "ipython",
    "version": 3
   },
   "file_extension": ".py",
   "mimetype": "text/x-python",
   "name": "python",
   "nbconvert_exporter": "python",
   "pygments_lexer": "ipython3",
   "version": "3.13.1"
  }
 },
 "nbformat": 4,
 "nbformat_minor": 2
}
