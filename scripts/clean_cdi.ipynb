{
 "cells": [
  {
   "cell_type": "markdown",
   "metadata": {},
   "source": [
    "## CDC Data Cleaning - Step by Step Summary\n",
    "\n",
    "### Problem\n",
    "The raw CDC data contained mixed measurement types:\n",
    "- **Prevalence percentages** (e.g., \"30% of adults have high blood pressure\")\n",
    "- **Mortality counts** (e.g., \"7,389 deaths from heart disease\")\n",
    "- **Hospitalization rates** (e.g., Medicare admissions for heart failure)\n",
    "\n",
    "When combined without filtering, these gave corrupted values like Iowa showing 7,389 for heart disease instead of the correct 54.4%.\n",
    "\n",
    "\n",
    "**Step 1: Load Data**\n",
    "- Loaded 309,215 rows from CDC Chronic Disease dataset\n",
    "\n",
    "**Step 2: Filter to 3 Diseases**\n",
    "- Kept only: Diabetes, Cardiovascular Disease, Chronic Obstructive Pulmonary Disease\n",
    "- Removed other topics (Cancer, Arthritis, Asthma, etc.)\n",
    "- Result: 74,978 rows\n",
    "\n",
    "**Step 3: Examine Questions**\n",
    "- Analyzed unique questions under each disease\n",
    "- Identified which were prevalence vs mortality vs hospitalization\n",
    "\n",
    "**Step 4: Filter to \"Among Adults\" Questions**\n",
    "- Kept only questions containing \"among adults\" (prevalence indicators)\n",
    "- Automatically excluded mortality and hospitalization questions\n",
    "- Result: 34,640 rows\n",
    "\n",
    "**Step 5: Remove Missing Values**\n",
    "- Dropped rows where DataValue was empty or null\n",
    "- Result: 23,194 rows\n",
    "\n",
    "**Step 6: Convert to Numeric**\n",
    "- Removed commas and percentage signs from text values\n",
    "- Converted from text to numeric format for analysis\n",
    "- Example: \"34%\" → 34.0\n",
    "\n",
    "**Step 7: Keep Latest Year Per State-Disease**\n",
    "\n",
    "**Why We Did This:**\n",
    "The CDC data has measurements from multiple years (2015-2021). For Iowa, I could have:\n",
    "- Iowa 2015: 45%\n",
    "- Iowa 2018: 49%\n",
    "- Iowa 2021: 54.4%\n",
    "\n",
    "I had to pick one. I chose 2021 (the latest).\n",
    "\n",
    "**Why Latest Year?**\n",
    "\n",
    "1. **Matches my other data** - My CMS data is 2023, HRRP is 2020-2023. Using 2021 from CDC makes them closer in time.\n",
    "\n",
    "2. **Current situation** - 2021 shows Iowa's current disease rate, not old data from 2015. That's what matters for my analysis.\n",
    "\n",
    "3. **Avoids confusion** - If I mixed 2015 disease rates with 2023 costs, I'd be comparing old health with new spending. That doesn't make sense.\n",
    "\n",
    "4. **Simpler dataset** - One year per state = one row per state-disease. If I kept all years, Iowa would have multiple rows for the same disease.\n",
    "\n",
    "Sorted by year, then kept only the last (newest) year for each state-disease.\n",
    "\n",
    "**Before:** 23,194 rows (many years per state)\n",
    "**After:** 165 rows (one year per state)\n",
    "\n",
    "\n",
    "**Now, One clean value per disease, all from the same year.**\n",
    "\n",
    "**Step 8: Pivot to Wide Format**\n",
    "- Changed from long format (multiple rows per state) to wide format (one row per state)\n",
    "- Created separate columns for each disease\n",
    "- Result: 55 rows\n",
    "\n",
    "**Step 9: Rename Columns**\n",
    "- LocationAbbr → State\n",
    "- Diabetes → Diabetes_Rate\n",
    "- Cardiovascular Disease → HeartDisease_Rate\n",
    "- Chronic Obstructive Pulmonary Disease → COPD_Rate\n",
    "\n",
    "**Step 10: Final Verification**\n",
    "- Verified all values are reasonable percentages\n",
    "- Confirmed no corrupted data remains\n",
    "\n",
    "**Final Result: Clean CDC Data**\n",
    "\n",
    "**Example: Iowa After Cleaning**\n",
    "- Before: HeartDisease_Rate = 7,389 (corrupted - mortality count)\n",
    "- After: HeartDisease_Rate = 54.4% (correct - prevalence)\n",
    "- COPD_Rate: 8.1%\n",
    "- Diabetes_Rate: 15.2%\n",
    "\n"
   ]
  },
  {
   "cell_type": "code",
   "execution_count": 1,
   "metadata": {},
   "outputs": [
    {
     "name": "stderr",
     "output_type": "stream",
     "text": [
      "/var/folders/5_/7850fm454vb567dm0m8jx2d80000gn/T/ipykernel_25992/2240071564.py:2: DtypeWarning: Columns (10,11,14,15) have mixed types. Specify dtype option on import or set low_memory=False.\n",
      "  cdi =  pd.read_csv(\"data/Chronic_Disease.csv\")\n"
     ]
    }
   ],
   "source": [
    "import pandas as pd\n",
    "cdi =  pd.read_csv(\"data/Chronic_Disease.csv\")\n"
   ]
  },
  {
   "cell_type": "code",
   "execution_count": 16,
   "metadata": {},
   "outputs": [
    {
     "name": "stdout",
     "output_type": "stream",
     "text": [
      "Total rows in CDC data: 165\n"
     ]
    },
    {
     "data": {
      "text/html": [
       "<div>\n",
       "<style scoped>\n",
       "    .dataframe tbody tr th:only-of-type {\n",
       "        vertical-align: middle;\n",
       "    }\n",
       "\n",
       "    .dataframe tbody tr th {\n",
       "        vertical-align: top;\n",
       "    }\n",
       "\n",
       "    .dataframe thead th {\n",
       "        text-align: right;\n",
       "    }\n",
       "</style>\n",
       "<table border=\"1\" class=\"dataframe\">\n",
       "  <thead>\n",
       "    <tr style=\"text-align: right;\">\n",
       "      <th></th>\n",
       "      <th>YearStart</th>\n",
       "      <th>YearEnd</th>\n",
       "      <th>LocationAbbr</th>\n",
       "      <th>LocationDesc</th>\n",
       "      <th>DataSource</th>\n",
       "      <th>Topic</th>\n",
       "      <th>Question</th>\n",
       "      <th>Response</th>\n",
       "      <th>DataValueUnit</th>\n",
       "      <th>DataValueType</th>\n",
       "      <th>...</th>\n",
       "      <th>TopicID</th>\n",
       "      <th>QuestionID</th>\n",
       "      <th>ResponseID</th>\n",
       "      <th>DataValueTypeID</th>\n",
       "      <th>StratificationCategoryID1</th>\n",
       "      <th>StratificationID1</th>\n",
       "      <th>StratificationCategoryID2</th>\n",
       "      <th>StratificationID2</th>\n",
       "      <th>StratificationCategoryID3</th>\n",
       "      <th>StratificationID3</th>\n",
       "    </tr>\n",
       "  </thead>\n",
       "  <tbody>\n",
       "    <tr>\n",
       "      <th>192586</th>\n",
       "      <td>2021</td>\n",
       "      <td>2021</td>\n",
       "      <td>AK</td>\n",
       "      <td>Alaska</td>\n",
       "      <td>BRFSS</td>\n",
       "      <td>Cardiovascular Disease</td>\n",
       "      <td>Taking medicine for high cholesterol among adults</td>\n",
       "      <td>NaN</td>\n",
       "      <td>%</td>\n",
       "      <td>Age-adjusted Prevalence</td>\n",
       "      <td>...</td>\n",
       "      <td>CVD</td>\n",
       "      <td>CVD04</td>\n",
       "      <td>NaN</td>\n",
       "      <td>AGEADJPREV</td>\n",
       "      <td>RACE</td>\n",
       "      <td>WHT</td>\n",
       "      <td>NaN</td>\n",
       "      <td>NaN</td>\n",
       "      <td>NaN</td>\n",
       "      <td>NaN</td>\n",
       "    </tr>\n",
       "    <tr>\n",
       "      <th>274614</th>\n",
       "      <td>2022</td>\n",
       "      <td>2022</td>\n",
       "      <td>AK</td>\n",
       "      <td>Alaska</td>\n",
       "      <td>BRFSS</td>\n",
       "      <td>Chronic Obstructive Pulmonary Disease</td>\n",
       "      <td>Chronic obstructive pulmonary disease among ad...</td>\n",
       "      <td>NaN</td>\n",
       "      <td>%</td>\n",
       "      <td>Age-adjusted Prevalence</td>\n",
       "      <td>...</td>\n",
       "      <td>COPD</td>\n",
       "      <td>COPD01</td>\n",
       "      <td>NaN</td>\n",
       "      <td>AGEADJPREV</td>\n",
       "      <td>RACE</td>\n",
       "      <td>WHT</td>\n",
       "      <td>NaN</td>\n",
       "      <td>NaN</td>\n",
       "      <td>NaN</td>\n",
       "      <td>NaN</td>\n",
       "    </tr>\n",
       "    <tr>\n",
       "      <th>274363</th>\n",
       "      <td>2022</td>\n",
       "      <td>2022</td>\n",
       "      <td>AK</td>\n",
       "      <td>Alaska</td>\n",
       "      <td>BRFSS</td>\n",
       "      <td>Diabetes</td>\n",
       "      <td>Diabetes among adults</td>\n",
       "      <td>NaN</td>\n",
       "      <td>%</td>\n",
       "      <td>Crude Prevalence</td>\n",
       "      <td>...</td>\n",
       "      <td>DIA</td>\n",
       "      <td>DIA01</td>\n",
       "      <td>NaN</td>\n",
       "      <td>CRDPREV</td>\n",
       "      <td>AGE</td>\n",
       "      <td>AGE65P</td>\n",
       "      <td>NaN</td>\n",
       "      <td>NaN</td>\n",
       "      <td>NaN</td>\n",
       "      <td>NaN</td>\n",
       "    </tr>\n",
       "    <tr>\n",
       "      <th>178832</th>\n",
       "      <td>2021</td>\n",
       "      <td>2021</td>\n",
       "      <td>AL</td>\n",
       "      <td>Alabama</td>\n",
       "      <td>BRFSS</td>\n",
       "      <td>Cardiovascular Disease</td>\n",
       "      <td>Taking medicine to control high blood pressure...</td>\n",
       "      <td>NaN</td>\n",
       "      <td>%</td>\n",
       "      <td>Crude Prevalence</td>\n",
       "      <td>...</td>\n",
       "      <td>CVD</td>\n",
       "      <td>CVD02</td>\n",
       "      <td>NaN</td>\n",
       "      <td>CRDPREV</td>\n",
       "      <td>RACE</td>\n",
       "      <td>WHT</td>\n",
       "      <td>NaN</td>\n",
       "      <td>NaN</td>\n",
       "      <td>NaN</td>\n",
       "      <td>NaN</td>\n",
       "    </tr>\n",
       "    <tr>\n",
       "      <th>275008</th>\n",
       "      <td>2022</td>\n",
       "      <td>2022</td>\n",
       "      <td>AL</td>\n",
       "      <td>Alabama</td>\n",
       "      <td>BRFSS</td>\n",
       "      <td>Chronic Obstructive Pulmonary Disease</td>\n",
       "      <td>Chronic obstructive pulmonary disease among ad...</td>\n",
       "      <td>NaN</td>\n",
       "      <td>%</td>\n",
       "      <td>Crude Prevalence</td>\n",
       "      <td>...</td>\n",
       "      <td>COPD</td>\n",
       "      <td>COPD01</td>\n",
       "      <td>NaN</td>\n",
       "      <td>CRDPREV</td>\n",
       "      <td>OVERALL</td>\n",
       "      <td>OVR</td>\n",
       "      <td>NaN</td>\n",
       "      <td>NaN</td>\n",
       "      <td>NaN</td>\n",
       "      <td>NaN</td>\n",
       "    </tr>\n",
       "  </tbody>\n",
       "</table>\n",
       "<p>5 rows × 34 columns</p>\n",
       "</div>"
      ],
      "text/plain": [
       "        YearStart  YearEnd LocationAbbr LocationDesc DataSource  \\\n",
       "192586       2021     2021           AK       Alaska      BRFSS   \n",
       "274614       2022     2022           AK       Alaska      BRFSS   \n",
       "274363       2022     2022           AK       Alaska      BRFSS   \n",
       "178832       2021     2021           AL      Alabama      BRFSS   \n",
       "275008       2022     2022           AL      Alabama      BRFSS   \n",
       "\n",
       "                                        Topic  \\\n",
       "192586                 Cardiovascular Disease   \n",
       "274614  Chronic Obstructive Pulmonary Disease   \n",
       "274363                               Diabetes   \n",
       "178832                 Cardiovascular Disease   \n",
       "275008  Chronic Obstructive Pulmonary Disease   \n",
       "\n",
       "                                                 Question  Response  \\\n",
       "192586  Taking medicine for high cholesterol among adults       NaN   \n",
       "274614  Chronic obstructive pulmonary disease among ad...       NaN   \n",
       "274363                              Diabetes among adults       NaN   \n",
       "178832  Taking medicine to control high blood pressure...       NaN   \n",
       "275008  Chronic obstructive pulmonary disease among ad...       NaN   \n",
       "\n",
       "       DataValueUnit            DataValueType  ...  TopicID QuestionID  \\\n",
       "192586             %  Age-adjusted Prevalence  ...      CVD      CVD04   \n",
       "274614             %  Age-adjusted Prevalence  ...     COPD     COPD01   \n",
       "274363             %         Crude Prevalence  ...      DIA      DIA01   \n",
       "178832             %         Crude Prevalence  ...      CVD      CVD02   \n",
       "275008             %         Crude Prevalence  ...     COPD     COPD01   \n",
       "\n",
       "       ResponseID DataValueTypeID StratificationCategoryID1 StratificationID1  \\\n",
       "192586        NaN      AGEADJPREV                      RACE               WHT   \n",
       "274614        NaN      AGEADJPREV                      RACE               WHT   \n",
       "274363        NaN         CRDPREV                       AGE            AGE65P   \n",
       "178832        NaN         CRDPREV                      RACE               WHT   \n",
       "275008        NaN         CRDPREV                   OVERALL               OVR   \n",
       "\n",
       "       StratificationCategoryID2 StratificationID2  StratificationCategoryID3  \\\n",
       "192586                       NaN               NaN                        NaN   \n",
       "274614                       NaN               NaN                        NaN   \n",
       "274363                       NaN               NaN                        NaN   \n",
       "178832                       NaN               NaN                        NaN   \n",
       "275008                       NaN               NaN                        NaN   \n",
       "\n",
       "        StratificationID3  \n",
       "192586                NaN  \n",
       "274614                NaN  \n",
       "274363                NaN  \n",
       "178832                NaN  \n",
       "275008                NaN  \n",
       "\n",
       "[5 rows x 34 columns]"
      ]
     },
     "execution_count": 16,
     "metadata": {},
     "output_type": "execute_result"
    }
   ],
   "source": [
    "print(f\"Total rows in CDC data: {len(cdi)}\")\n",
    "cdi.head()\n"
   ]
  },
  {
   "cell_type": "code",
   "execution_count": 4,
   "metadata": {},
   "outputs": [
    {
     "name": "stdout",
     "output_type": "stream",
     "text": [
      "Rows after filtering: 74978\n"
     ]
    }
   ],
   "source": [
    "# STEP 2: Keep only the 3 diseases we want\n",
    "diseases = [\"Diabetes\", \"Cardiovascular Disease\", \"Chronic Obstructive Pulmonary Disease\"]\n",
    "cdi = cdi[cdi[\"Topic\"].isin(diseases)]\n",
    "print(f\"Rows after filtering: {len(cdi)}\")"
   ]
  },
  {
   "cell_type": "code",
   "execution_count": 5,
   "metadata": {},
   "outputs": [
    {
     "name": "stdout",
     "output_type": "stream",
     "text": [
      "\n",
      "Diabetes:\n",
      "  Total rows: 17318\n",
      "  Unique questions:\n",
      "    - Diabetic ketoacidosis mortality among all people, underlying or contributing cause\n",
      "    - Diabetes among adults\n",
      "    - Gestational diabetes among women with a recent live birth\n",
      "    - Diabetes mortality among all people, underlying or contributing cause\n",
      "\n",
      "Cardiovascular Disease:\n",
      "  Total rows: 30709\n",
      "  Unique questions:\n",
      "    - Taking medicine to control high blood pressure among adults with high blood pressure\n",
      "    - Coronary heart disease mortality among all people, underlying cause\n",
      "    - High cholesterol among adults who have been screened\n",
      "    - Taking medicine for high cholesterol among adults\n",
      "    - Cerebrovascular disease (stroke) mortality among all people, underlying cause\n",
      "    - High blood pressure among adults\n",
      "    - Diseases of the heart mortality among all people, underlying cause\n",
      "    - Hospitalization for heart failure as principal diagnosis, Medicare-beneficiaries aged 65 years and older\n",
      "\n",
      "Chronic Obstructive Pulmonary Disease:\n",
      "  Total rows: 26951\n",
      "  Unique questions:\n",
      "    - Chronic obstructive pulmonary disease mortality among adults aged 45 years and older, underlying cause\n",
      "    - Current smoking among adults with chronic obstructive pulmonary disease\n",
      "    - Chronic obstructive pulmonary disease among adults\n",
      "    - Chronic obstructive pulmonary disease mortality among adults aged 45 years and older, underlying or contributing cause\n",
      "    - Hospitalization for chronic obstructive pulmonary disease as any diagnosis, Medicare-beneficiaries aged 65 years and older\n",
      "    - Hospitalization for chronic obstructive pulmonary disease as principal diagnosis, Medicare-beneficiaries aged 65 years and older\n"
     ]
    }
   ],
   "source": [
    "# STEP 3: Look at all three diseases in detail\n",
    "selected_topics = [\"Diabetes\", \"Cardiovascular Disease\", \"Chronic Obstructive Pulmonary Disease\"]\n",
    "\n",
    "for topic in selected_topics:\n",
    "    topic_data = cdi[cdi['Topic'] == topic]\n",
    "    print(f\"\\n{topic}:\")\n",
    "    print(f\"  Total rows: {len(topic_data)}\")\n",
    "    print(f\"  Unique questions:\")\n",
    "    for q in topic_data['Question'].unique():\n",
    "        print(f\"    - {q}\")"
   ]
  },
  {
   "cell_type": "code",
   "execution_count": 6,
   "metadata": {},
   "outputs": [
    {
     "name": "stdout",
     "output_type": "stream",
     "text": [
      "Step 4 - Rows after filtering to 'among adults': 34640\n"
     ]
    }
   ],
   "source": [
    "# STEP 4: Keep only questions with \"among adults\" (prevalence, not mortality)\n",
    "cdi = cdi[cdi[\"Question\"].str.contains(\"among adults\", case=False, na=False)]\n",
    "print(f\"Step 4 - Rows after filtering to 'among adults': {len(cdi)}\")"
   ]
  },
  {
   "cell_type": "code",
   "execution_count": 7,
   "metadata": {},
   "outputs": [
    {
     "name": "stdout",
     "output_type": "stream",
     "text": [
      "Step 5 - Rows after removing empty values: 23194\n"
     ]
    }
   ],
   "source": [
    "# STEP 5: Remove empty DataValue\n",
    "cdi = cdi[cdi[\"DataValue\"].notna()]\n",
    "print(f\"Step 5 - Rows after removing empty values: {len(cdi)}\")"
   ]
  },
  {
   "cell_type": "code",
   "execution_count": 8,
   "metadata": {},
   "outputs": [
    {
     "name": "stdout",
     "output_type": "stream",
     "text": [
      "Step 6 - DataValue converted to numeric\n"
     ]
    }
   ],
   "source": [
    "# STEP 6: Convert DataValue to number\n",
    "cdi[\"DataValue\"] = (\n",
    "    cdi[\"DataValue\"]\n",
    "    .astype(str)\n",
    "    .str.replace(\",\", \"\")\n",
    "    .str.replace(\"%\", \"\")\n",
    ")\n",
    "cdi[\"DataValue\"] = pd.to_numeric(cdi[\"DataValue\"], errors=\"coerce\")\n",
    "print(f\"Step 6 - DataValue converted to numeric\")"
   ]
  },
  {
   "cell_type": "code",
   "execution_count": 9,
   "metadata": {},
   "outputs": [
    {
     "name": "stdout",
     "output_type": "stream",
     "text": [
      "Step 7 - Rows after keeping latest year only: 165\n"
     ]
    }
   ],
   "source": [
    "# STEP 7: Keep latest year per state and disease\n",
    "cdi = cdi.sort_values([\"LocationAbbr\", \"Topic\", \"YearStart\"])\n",
    "cdi = cdi.drop_duplicates(subset=[\"LocationAbbr\", \"Topic\"], keep=\"last\")\n",
    "print(f\"Step 7 - Rows after keeping latest year only: {len(cdi)}\")"
   ]
  },
  {
   "cell_type": "code",
   "execution_count": 10,
   "metadata": {},
   "outputs": [
    {
     "name": "stdout",
     "output_type": "stream",
     "text": [
      "Step 8 - After pivot: 55 rows\n"
     ]
    }
   ],
   "source": [
    "# STEP 8: Pivot to wide format\n",
    "cdi_pivot = cdi.pivot_table(\n",
    "    index=\"LocationAbbr\",\n",
    "    columns=\"Topic\",\n",
    "    values=\"DataValue\",\n",
    "    aggfunc=\"first\"\n",
    ").reset_index()\n",
    "cdi_pivot.columns.name = None\n",
    "\n",
    "print(f\"Step 8 - After pivot: {len(cdi_pivot)} rows\")\n"
   ]
  },
  {
   "cell_type": "code",
   "execution_count": 11,
   "metadata": {},
   "outputs": [],
   "source": [
    "# STEP 9: Rename columns\n",
    "cdi_pivot.rename(columns={\n",
    "    \"LocationAbbr\": \"State\",\n",
    "    \"Diabetes\": \"Diabetes_Rate\",\n",
    "    \"Cardiovascular Disease\": \"HeartDisease_Rate\",\n",
    "    \"Chronic Obstructive Pulmonary Disease\": \"COPD_Rate\"\n",
    "}, inplace=True)"
   ]
  },
  {
   "cell_type": "code",
   "execution_count": 12,
   "metadata": {},
   "outputs": [
    {
     "name": "stdout",
     "output_type": "stream",
     "text": [
      "\n",
      "Step 10 - Final Data Check:\n",
      "HeartDisease_Rate: 12.10 to 92.30\n",
      "COPD_Rate: 0.00 to 20.20\n",
      "Diabetes_Rate: 1.80 to 24.40\n",
      "\n",
      "Iowa data:\n",
      "   State  HeartDisease_Rate  COPD_Rate  Diabetes_Rate\n",
      "13    IA               54.4        8.1           15.2\n"
     ]
    }
   ],
   "source": [
    "# STEP 10: Verify final data\n",
    "print(f\"\\nStep 10 - Final Data Check:\")\n",
    "print(f\"HeartDisease_Rate: {cdi_pivot['HeartDisease_Rate'].min():.2f} to {cdi_pivot['HeartDisease_Rate'].max():.2f}\")\n",
    "print(f\"COPD_Rate: {cdi_pivot['COPD_Rate'].min():.2f} to {cdi_pivot['COPD_Rate'].max():.2f}\")\n",
    "print(f\"Diabetes_Rate: {cdi_pivot['Diabetes_Rate'].min():.2f} to {cdi_pivot['Diabetes_Rate'].max():.2f}\")\n",
    "\n",
    "print(f\"\\nIowa data:\")\n",
    "print(cdi_pivot[cdi_pivot['State'] == 'IA'])"
   ]
  },
  {
   "cell_type": "code",
   "execution_count": 13,
   "metadata": {},
   "outputs": [
    {
     "data": {
      "text/html": [
       "<div>\n",
       "<style scoped>\n",
       "    .dataframe tbody tr th:only-of-type {\n",
       "        vertical-align: middle;\n",
       "    }\n",
       "\n",
       "    .dataframe tbody tr th {\n",
       "        vertical-align: top;\n",
       "    }\n",
       "\n",
       "    .dataframe thead th {\n",
       "        text-align: right;\n",
       "    }\n",
       "</style>\n",
       "<table border=\"1\" class=\"dataframe\">\n",
       "  <thead>\n",
       "    <tr style=\"text-align: right;\">\n",
       "      <th></th>\n",
       "      <th>State</th>\n",
       "      <th>HeartDisease_Rate</th>\n",
       "      <th>COPD_Rate</th>\n",
       "      <th>Diabetes_Rate</th>\n",
       "    </tr>\n",
       "  </thead>\n",
       "  <tbody>\n",
       "    <tr>\n",
       "      <th>0</th>\n",
       "      <td>AK</td>\n",
       "      <td>27.7</td>\n",
       "      <td>5.0</td>\n",
       "      <td>20.6</td>\n",
       "    </tr>\n",
       "    <tr>\n",
       "      <th>1</th>\n",
       "      <td>AL</td>\n",
       "      <td>83.8</td>\n",
       "      <td>9.4</td>\n",
       "      <td>21.5</td>\n",
       "    </tr>\n",
       "    <tr>\n",
       "      <th>2</th>\n",
       "      <td>AR</td>\n",
       "      <td>72.8</td>\n",
       "      <td>13.3</td>\n",
       "      <td>5.4</td>\n",
       "    </tr>\n",
       "    <tr>\n",
       "      <th>3</th>\n",
       "      <td>AZ</td>\n",
       "      <td>28.1</td>\n",
       "      <td>2.6</td>\n",
       "      <td>10.5</td>\n",
       "    </tr>\n",
       "    <tr>\n",
       "      <th>4</th>\n",
       "      <td>CA</td>\n",
       "      <td>30.7</td>\n",
       "      <td>3.3</td>\n",
       "      <td>24.4</td>\n",
       "    </tr>\n",
       "    <tr>\n",
       "      <th>5</th>\n",
       "      <td>CO</td>\n",
       "      <td>28.6</td>\n",
       "      <td>2.2</td>\n",
       "      <td>7.6</td>\n",
       "    </tr>\n",
       "    <tr>\n",
       "      <th>6</th>\n",
       "      <td>CT</td>\n",
       "      <td>92.3</td>\n",
       "      <td>5.0</td>\n",
       "      <td>7.1</td>\n",
       "    </tr>\n",
       "    <tr>\n",
       "      <th>7</th>\n",
       "      <td>DC</td>\n",
       "      <td>60.8</td>\n",
       "      <td>8.0</td>\n",
       "      <td>12.9</td>\n",
       "    </tr>\n",
       "    <tr>\n",
       "      <th>8</th>\n",
       "      <td>DE</td>\n",
       "      <td>62.3</td>\n",
       "      <td>7.3</td>\n",
       "      <td>18.1</td>\n",
       "    </tr>\n",
       "    <tr>\n",
       "      <th>9</th>\n",
       "      <td>FL</td>\n",
       "      <td>82.8</td>\n",
       "      <td>13.3</td>\n",
       "      <td>10.8</td>\n",
       "    </tr>\n",
       "  </tbody>\n",
       "</table>\n",
       "</div>"
      ],
      "text/plain": [
       "  State  HeartDisease_Rate  COPD_Rate  Diabetes_Rate\n",
       "0    AK               27.7        5.0           20.6\n",
       "1    AL               83.8        9.4           21.5\n",
       "2    AR               72.8       13.3            5.4\n",
       "3    AZ               28.1        2.6           10.5\n",
       "4    CA               30.7        3.3           24.4\n",
       "5    CO               28.6        2.2            7.6\n",
       "6    CT               92.3        5.0            7.1\n",
       "7    DC               60.8        8.0           12.9\n",
       "8    DE               62.3        7.3           18.1\n",
       "9    FL               82.8       13.3           10.8"
      ]
     },
     "execution_count": 13,
     "metadata": {},
     "output_type": "execute_result"
    }
   ],
   "source": [
    "cdi_pivot.head(10)"
   ]
  },
  {
   "cell_type": "code",
   "execution_count": 14,
   "metadata": {},
   "outputs": [
    {
     "data": {
      "text/plain": [
       "55"
      ]
     },
     "execution_count": 14,
     "metadata": {},
     "output_type": "execute_result"
    }
   ],
   "source": [
    "len(cdi_pivot)"
   ]
  },
  {
   "cell_type": "code",
   "execution_count": 15,
   "metadata": {},
   "outputs": [],
   "source": [
    "cdi_pivot.to_csv(\"data/clean_cdi.csv\", index=False)\n"
   ]
  }
 ],
 "metadata": {
  "kernelspec": {
   "display_name": "venv",
   "language": "python",
   "name": "python3"
  },
  "language_info": {
   "codemirror_mode": {
    "name": "ipython",
    "version": 3
   },
   "file_extension": ".py",
   "mimetype": "text/x-python",
   "name": "python",
   "nbconvert_exporter": "python",
   "pygments_lexer": "ipython3",
   "version": "3.13.1"
  }
 },
 "nbformat": 4,
 "nbformat_minor": 2
}
