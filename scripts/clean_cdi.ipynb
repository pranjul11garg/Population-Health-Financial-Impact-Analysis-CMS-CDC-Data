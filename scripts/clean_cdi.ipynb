{
 "cells": [
  {
   "cell_type": "code",
   "execution_count": null,
   "metadata": {},
   "outputs": [],
   "source": [
    "import pandas as pd\n",
    "cdi =  pd.read_csv(\"data/Chronic_Disease.csv\")\n"
   ]
  },
  {
   "cell_type": "code",
   "execution_count": 6,
   "metadata": {},
   "outputs": [
    {
     "name": "stdout",
     "output_type": "stream",
     "text": [
      "Total rows in CDC data: 74978\n"
     ]
    }
   ],
   "source": [
    "print(f\"Total rows in CDC data: {len(cdi)}\")\n"
   ]
  },
  {
   "cell_type": "code",
   "execution_count": null,
   "metadata": {},
   "outputs": [],
   "source": [
    "cdi.head()\n"
   ]
  },
  {
   "cell_type": "code",
   "execution_count": 4,
   "metadata": {},
   "outputs": [
    {
     "name": "stdout",
     "output_type": "stream",
     "text": [
      "Rows after filtering: 74978\n"
     ]
    }
   ],
   "source": [
    "# STEP 2: Keep only the 3 diseases we want\n",
    "diseases = [\"Diabetes\", \"Cardiovascular Disease\", \"Chronic Obstructive Pulmonary Disease\"]\n",
    "cdi = cdi[cdi[\"Topic\"].isin(diseases)]\n",
    "print(f\"Rows after filtering: {len(cdi)}\")"
   ]
  },
  {
   "cell_type": "code",
   "execution_count": 5,
   "metadata": {},
   "outputs": [
    {
     "name": "stdout",
     "output_type": "stream",
     "text": [
      "\n",
      "Diabetes:\n",
      "  Total rows: 17318\n",
      "  Unique questions:\n",
      "    - Diabetic ketoacidosis mortality among all people, underlying or contributing cause\n",
      "    - Diabetes among adults\n",
      "    - Gestational diabetes among women with a recent live birth\n",
      "    - Diabetes mortality among all people, underlying or contributing cause\n",
      "\n",
      "Cardiovascular Disease:\n",
      "  Total rows: 30709\n",
      "  Unique questions:\n",
      "    - Taking medicine to control high blood pressure among adults with high blood pressure\n",
      "    - Coronary heart disease mortality among all people, underlying cause\n",
      "    - High cholesterol among adults who have been screened\n",
      "    - Taking medicine for high cholesterol among adults\n",
      "    - Cerebrovascular disease (stroke) mortality among all people, underlying cause\n",
      "    - High blood pressure among adults\n",
      "    - Diseases of the heart mortality among all people, underlying cause\n",
      "    - Hospitalization for heart failure as principal diagnosis, Medicare-beneficiaries aged 65 years and older\n",
      "\n",
      "Chronic Obstructive Pulmonary Disease:\n",
      "  Total rows: 26951\n",
      "  Unique questions:\n",
      "    - Chronic obstructive pulmonary disease mortality among adults aged 45 years and older, underlying cause\n",
      "    - Current smoking among adults with chronic obstructive pulmonary disease\n",
      "    - Chronic obstructive pulmonary disease among adults\n",
      "    - Chronic obstructive pulmonary disease mortality among adults aged 45 years and older, underlying or contributing cause\n",
      "    - Hospitalization for chronic obstructive pulmonary disease as any diagnosis, Medicare-beneficiaries aged 65 years and older\n",
      "    - Hospitalization for chronic obstructive pulmonary disease as principal diagnosis, Medicare-beneficiaries aged 65 years and older\n"
     ]
    }
   ],
   "source": [
    "# STEP 3: Look at all three diseases in detail\n",
    "selected_topics = [\"Diabetes\", \"Cardiovascular Disease\", \"Chronic Obstructive Pulmonary Disease\"]\n",
    "\n",
    "for topic in selected_topics:\n",
    "    topic_data = cdi[cdi['Topic'] == topic]\n",
    "    print(f\"\\n{topic}:\")\n",
    "    print(f\"  Total rows: {len(topic_data)}\")\n",
    "    print(f\"  Unique questions:\")\n",
    "    for q in topic_data['Question'].unique():\n",
    "        print(f\"    - {q}\")"
   ]
  },
  {
   "cell_type": "code",
   "execution_count": 8,
   "metadata": {},
   "outputs": [
    {
     "name": "stdout",
     "output_type": "stream",
     "text": [
      "Step 4 - Rows after filtering to 'among adults': 34640\n"
     ]
    }
   ],
   "source": [
    "# STEP 4: Keep only questions with \"among adults\" (prevalence, not mortality)\n",
    "cdi = cdi[cdi[\"Question\"].str.contains(\"among adults\", case=False, na=False)]\n",
    "print(f\"Step 4 - Rows after filtering to 'among adults': {len(cdi)}\")"
   ]
  },
  {
   "cell_type": "code",
   "execution_count": 10,
   "metadata": {},
   "outputs": [
    {
     "name": "stdout",
     "output_type": "stream",
     "text": [
      "Step 5 - Rows after removing empty values: 23194\n"
     ]
    }
   ],
   "source": [
    "# STEP 5: Remove empty DataValue\n",
    "cdi = cdi[cdi[\"DataValue\"].notna()]\n",
    "print(f\"Step 5 - Rows after removing empty values: {len(cdi)}\")"
   ]
  },
  {
   "cell_type": "code",
   "execution_count": 11,
   "metadata": {},
   "outputs": [
    {
     "name": "stdout",
     "output_type": "stream",
     "text": [
      "Step 6 - DataValue converted to numeric\n"
     ]
    }
   ],
   "source": [
    "# STEP 6: Convert DataValue to number\n",
    "cdi[\"DataValue\"] = (\n",
    "    cdi[\"DataValue\"]\n",
    "    .astype(str)\n",
    "    .str.replace(\",\", \"\")\n",
    "    .str.replace(\"%\", \"\")\n",
    ")\n",
    "cdi[\"DataValue\"] = pd.to_numeric(cdi[\"DataValue\"], errors=\"coerce\")\n",
    "print(f\"Step 6 - DataValue converted to numeric\")"
   ]
  },
  {
   "cell_type": "code",
   "execution_count": 12,
   "metadata": {},
   "outputs": [
    {
     "name": "stdout",
     "output_type": "stream",
     "text": [
      "Step 7 - Rows after keeping latest year only: 165\n"
     ]
    }
   ],
   "source": [
    "# STEP 7: Keep latest year per state and disease\n",
    "cdi = cdi.sort_values([\"LocationAbbr\", \"Topic\", \"YearStart\"])\n",
    "cdi = cdi.drop_duplicates(subset=[\"LocationAbbr\", \"Topic\"], keep=\"last\")\n",
    "print(f\"Step 7 - Rows after keeping latest year only: {len(cdi)}\")"
   ]
  },
  {
   "cell_type": "code",
   "execution_count": 15,
   "metadata": {},
   "outputs": [
    {
     "name": "stdout",
     "output_type": "stream",
     "text": [
      "Step 8 - After pivot: 55 rows\n"
     ]
    }
   ],
   "source": [
    "# STEP 8: Pivot to wide format\n",
    "cdi_pivot = cdi.pivot_table(\n",
    "    index=\"LocationAbbr\",\n",
    "    columns=\"Topic\",\n",
    "    values=\"DataValue\",\n",
    "    aggfunc=\"first\"\n",
    ").reset_index()\n",
    "cdi_pivot.columns.name = None\n",
    "\n",
    "print(f\"Step 8 - After pivot: {len(cdi_pivot)} rows\")\n"
   ]
  },
  {
   "cell_type": "code",
   "execution_count": 16,
   "metadata": {},
   "outputs": [],
   "source": [
    "# STEP 9: Rename columns\n",
    "cdi_pivot.rename(columns={\n",
    "    \"LocationAbbr\": \"State\",\n",
    "    \"Diabetes\": \"Diabetes_Rate\",\n",
    "    \"Cardiovascular Disease\": \"HeartDisease_Rate\",\n",
    "    \"Chronic Obstructive Pulmonary Disease\": \"COPD_Rate\"\n",
    "}, inplace=True)"
   ]
  },
  {
   "cell_type": "code",
   "execution_count": 19,
   "metadata": {},
   "outputs": [
    {
     "name": "stdout",
     "output_type": "stream",
     "text": [
      "\n",
      "Step 10 - Final Data Check:\n",
      "HeartDisease_Rate: 12.10 to 92.30\n",
      "COPD_Rate: 0.00 to 20.20\n",
      "Diabetes_Rate: 1.80 to 24.40\n",
      "\n",
      "Iowa data:\n",
      "   State  HeartDisease_Rate  COPD_Rate  Diabetes_Rate\n",
      "13    IA               54.4        8.1           15.2\n",
      "\n",
      "Final cleaned CDC data (first 10 rows):\n"
     ]
    }
   ],
   "source": [
    "# STEP 10: Verify final data\n",
    "print(f\"\\nStep 10 - Final Data Check:\")\n",
    "print(f\"HeartDisease_Rate: {cdi_pivot['HeartDisease_Rate'].min():.2f} to {cdi_pivot['HeartDisease_Rate'].max():.2f}\")\n",
    "print(f\"COPD_Rate: {cdi_pivot['COPD_Rate'].min():.2f} to {cdi_pivot['COPD_Rate'].max():.2f}\")\n",
    "print(f\"Diabetes_Rate: {cdi_pivot['Diabetes_Rate'].min():.2f} to {cdi_pivot['Diabetes_Rate'].max():.2f}\")\n",
    "\n",
    "print(f\"\\nIowa data:\")\n",
    "print(cdi_pivot[cdi_pivot['State'] == 'IA'])"
   ]
  },
  {
   "cell_type": "code",
   "execution_count": 21,
   "metadata": {},
   "outputs": [
    {
     "data": {
      "text/html": [
       "<div>\n",
       "<style scoped>\n",
       "    .dataframe tbody tr th:only-of-type {\n",
       "        vertical-align: middle;\n",
       "    }\n",
       "\n",
       "    .dataframe tbody tr th {\n",
       "        vertical-align: top;\n",
       "    }\n",
       "\n",
       "    .dataframe thead th {\n",
       "        text-align: right;\n",
       "    }\n",
       "</style>\n",
       "<table border=\"1\" class=\"dataframe\">\n",
       "  <thead>\n",
       "    <tr style=\"text-align: right;\">\n",
       "      <th></th>\n",
       "      <th>State</th>\n",
       "      <th>HeartDisease_Rate</th>\n",
       "      <th>COPD_Rate</th>\n",
       "      <th>Diabetes_Rate</th>\n",
       "    </tr>\n",
       "  </thead>\n",
       "  <tbody>\n",
       "    <tr>\n",
       "      <th>0</th>\n",
       "      <td>AK</td>\n",
       "      <td>27.7</td>\n",
       "      <td>5.0</td>\n",
       "      <td>20.6</td>\n",
       "    </tr>\n",
       "    <tr>\n",
       "      <th>1</th>\n",
       "      <td>AL</td>\n",
       "      <td>83.8</td>\n",
       "      <td>9.4</td>\n",
       "      <td>21.5</td>\n",
       "    </tr>\n",
       "    <tr>\n",
       "      <th>2</th>\n",
       "      <td>AR</td>\n",
       "      <td>72.8</td>\n",
       "      <td>13.3</td>\n",
       "      <td>5.4</td>\n",
       "    </tr>\n",
       "    <tr>\n",
       "      <th>3</th>\n",
       "      <td>AZ</td>\n",
       "      <td>28.1</td>\n",
       "      <td>2.6</td>\n",
       "      <td>10.5</td>\n",
       "    </tr>\n",
       "    <tr>\n",
       "      <th>4</th>\n",
       "      <td>CA</td>\n",
       "      <td>30.7</td>\n",
       "      <td>3.3</td>\n",
       "      <td>24.4</td>\n",
       "    </tr>\n",
       "    <tr>\n",
       "      <th>5</th>\n",
       "      <td>CO</td>\n",
       "      <td>28.6</td>\n",
       "      <td>2.2</td>\n",
       "      <td>7.6</td>\n",
       "    </tr>\n",
       "    <tr>\n",
       "      <th>6</th>\n",
       "      <td>CT</td>\n",
       "      <td>92.3</td>\n",
       "      <td>5.0</td>\n",
       "      <td>7.1</td>\n",
       "    </tr>\n",
       "    <tr>\n",
       "      <th>7</th>\n",
       "      <td>DC</td>\n",
       "      <td>60.8</td>\n",
       "      <td>8.0</td>\n",
       "      <td>12.9</td>\n",
       "    </tr>\n",
       "    <tr>\n",
       "      <th>8</th>\n",
       "      <td>DE</td>\n",
       "      <td>62.3</td>\n",
       "      <td>7.3</td>\n",
       "      <td>18.1</td>\n",
       "    </tr>\n",
       "    <tr>\n",
       "      <th>9</th>\n",
       "      <td>FL</td>\n",
       "      <td>82.8</td>\n",
       "      <td>13.3</td>\n",
       "      <td>10.8</td>\n",
       "    </tr>\n",
       "  </tbody>\n",
       "</table>\n",
       "</div>"
      ],
      "text/plain": [
       "  State  HeartDisease_Rate  COPD_Rate  Diabetes_Rate\n",
       "0    AK               27.7        5.0           20.6\n",
       "1    AL               83.8        9.4           21.5\n",
       "2    AR               72.8       13.3            5.4\n",
       "3    AZ               28.1        2.6           10.5\n",
       "4    CA               30.7        3.3           24.4\n",
       "5    CO               28.6        2.2            7.6\n",
       "6    CT               92.3        5.0            7.1\n",
       "7    DC               60.8        8.0           12.9\n",
       "8    DE               62.3        7.3           18.1\n",
       "9    FL               82.8       13.3           10.8"
      ]
     },
     "execution_count": 21,
     "metadata": {},
     "output_type": "execute_result"
    }
   ],
   "source": [
    "cdi_pivot.head(10)"
   ]
  },
  {
   "cell_type": "code",
   "execution_count": null,
   "metadata": {},
   "outputs": [],
   "source": []
  }
 ],
 "metadata": {
  "kernelspec": {
   "display_name": "venv",
   "language": "python",
   "name": "python3"
  },
  "language_info": {
   "codemirror_mode": {
    "name": "ipython",
    "version": 3
   },
   "file_extension": ".py",
   "mimetype": "text/x-python",
   "name": "python",
   "nbconvert_exporter": "python",
   "pygments_lexer": "ipython3",
   "version": "3.13.1"
  }
 },
 "nbformat": 4,
 "nbformat_minor": 2
}
