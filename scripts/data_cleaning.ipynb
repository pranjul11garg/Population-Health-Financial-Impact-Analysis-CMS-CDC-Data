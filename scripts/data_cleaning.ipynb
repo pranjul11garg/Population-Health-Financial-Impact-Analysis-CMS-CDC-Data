{
 "cells": [
  {
   "cell_type": "markdown",
   "metadata": {},
   "source": [
    "### **Problem Statement: Do states with higher chronic disease burden and higher hospital readmissions also have higher inpatient treatment costs?**\n",
    "\n",
    "- Working on a Population Health Financial Impact Analysis, using three major U.S. healthcare datasets (CMS + HRRP + CDC) to explore how population health outcomes relate to financial and hospital performance metrics.\n",
    "- https://data.cms.gov/ (CMS Datasets)\n",
    "- https://data.cms.gov/ (HRRP Dataset)\n",
    "- https://chronicdata.cdc.gov/ (Chronic Dataset)\n",
    "- Studying the relationship between population health, readmissions, and costs \n",
    "- Goal is state-level comparison (e.g., “Which states are expensive and unhealthy?”),"
   ]
  },
  {
   "cell_type": "markdown",
   "metadata": {},
   "source": [
    "### SUMMARY\n",
    "WHAT I HAVE DONE HERE IS, CLEANED THE DATASETS AND MADE IT READY FOR MERGE.\n",
    "**Kept only the most recent year for the CDI as the CMS data is of 2023 and the hrrp data is from 2020 to 2023**\n",
    "\n",
    "### 1. **FINANCIAL DATA: cms_state**\n",
    "    HERE, I HAVE ONLY FETCHED THE COLUMNS WHICH ARE USEFUL LIKE:\n",
    "- Rndrng_Prvdr_State_Abrvtn (Provider State)\n",
    "- DRG_Desc (DRG Definition)\n",
    "- Tot_Dschrgs (Total Discharges)\n",
    "- Avg_Submtd_Cvrd_Chrg\t(Average Covered Charges)\n",
    "- Avg_Tot_Pymt_Amt (Average Total Payments)\n",
    "- Avg_Mdcr_Pymt_Amt (Average payment from Medicare)\n",
    "  \n",
    "We filtered the CMS dataset to keep only chronic disease-related DRGs (Heart Failure, COPD, Diabetes),\n",
    "these align with HRRP readmission categories.\n",
    "Then, we aggregated by state using **weighted averages based on the number of discharges.**\n",
    "This ensures each state’s cost measures reflect its hospital activity volume, giving fair comparisons across states. \n",
    "\n",
    "### 2. **CHRONIC DISEASE INDICATIOR : cdi_pivot**\n",
    " Preparing CDC Chronic Disease Indicators (CDI) Data\n",
    "\n",
    "In this step, we filtered and cleaned the CDC Chronic Disease Indicators dataset to focus on four key chronic health conditions — **Diabetes, Cardiovascular Disease, and COPD** — across all available years.\n",
    "\n",
    "We then:\n",
    "- Selected only relevant columns (**State, Topic, DataValue, YearStart**)\n",
    "- Converted all values to numeric by removing commas and percentage symbols\n",
    "- Renamed columns for consistency (DataValue → Value, YearStart → Year)\n",
    "- Kept latest year\n",
    "  \n",
    "**This cleaned dataset (cdi_filtered) allows us to analyze how chronic disease prevalence has changed over time in each state, forming the foundation for comparing health outcomes with hospital readmissions and financial costs.**\n",
    "\n",
    "  \n",
    "\n",
    "### 3. **READMISSION DATA: hrrp_state_summaryw**\n",
    "      HERE, I HAVE ONLY FETCHED THE COLUMNS WHICH ARE USEFUL LIKE:\n",
    "#### columns to keep\n",
    "-  \"Facility Name\", \n",
    "-  \"State\",\n",
    "-   \"Measure Name\",\n",
    "-    \"Predicted Readmission Rate\", \n",
    "-    \"Expected Readmission Rate\",\n",
    "-    \"Excess Readmission Ratio\", \n",
    "-    \"Number of Discharges\"\n",
    "#### Keeping the chronic diseases which are more common\n",
    "- \"READM-30-HF\",      # Heart Failure\n",
    "- \"READM-30-COPD\",    # Chronic Obstructive Pulmonary Disease\n",
    "-  \"READM-30-DIABETES\",# Diabetes\n",
    "\n"
   ]
  },
  {
   "cell_type": "code",
   "execution_count": 6,
   "metadata": {},
   "outputs": [
    {
     "ename": "NameError",
     "evalue": "name 'cdi_pivot' is not defined",
     "output_type": "error",
     "traceback": [
      "\u001b[31m---------------------------------------------------------------------------\u001b[39m",
      "\u001b[31mNameError\u001b[39m                                 Traceback (most recent call last)",
      "\u001b[36mCell\u001b[39m\u001b[36m \u001b[39m\u001b[32mIn[6]\u001b[39m\u001b[32m, line 2\u001b[39m\n\u001b[32m      1\u001b[39m \u001b[38;5;66;03m# See which states are missing from each dataset\u001b[39;00m\n\u001b[32m----> \u001b[39m\u001b[32m2\u001b[39m \u001b[38;5;28mprint\u001b[39m(\u001b[33m\"\u001b[39m\u001b[33mStates in CDI:\u001b[39m\u001b[33m\"\u001b[39m, \u001b[38;5;28msorted\u001b[39m(\u001b[43mcdi_pivot\u001b[49m[\u001b[33m'\u001b[39m\u001b[33mState\u001b[39m\u001b[33m'\u001b[39m].unique()))\n\u001b[32m      3\u001b[39m \u001b[38;5;28mprint\u001b[39m(\u001b[33m\"\u001b[39m\u001b[33mStates in HRRP:\u001b[39m\u001b[33m\"\u001b[39m, \u001b[38;5;28msorted\u001b[39m(hrrp_state_summary[\u001b[33m'\u001b[39m\u001b[33mState\u001b[39m\u001b[33m'\u001b[39m].unique()))\n\u001b[32m      4\u001b[39m \u001b[38;5;28mprint\u001b[39m(\u001b[33m\"\u001b[39m\u001b[33mStates in CMS:\u001b[39m\u001b[33m\"\u001b[39m, \u001b[38;5;28msorted\u001b[39m(cms_state[\u001b[33m'\u001b[39m\u001b[33mState\u001b[39m\u001b[33m'\u001b[39m].unique()))\n",
      "\u001b[31mNameError\u001b[39m: name 'cdi_pivot' is not defined"
     ]
    }
   ],
   "source": [
    "# See which states are missing from each dataset\n",
    "print(\"States in CDI:\", sorted(cdi_pivot['State'].unique()))\n",
    "print(\"States in HRRP:\", sorted(hrrp_state_summary['State'].unique()))\n",
    "print(\"States in CMS:\", sorted(cms_state['State'].unique()))"
   ]
  },
  {
   "cell_type": "code",
   "execution_count": null,
   "metadata": {},
   "outputs": [],
   "source": [
    "all_cdi_states = set(cdi_pivot['State'].unique())\n",
    "all_hrrp_states = set(hrrp_state_summary['State'].unique())\n",
    "territories_excluded = all_cdi_states - all_hrrp_states\n",
    "print(f\"Territories/Aggregates Excluded: {territories_excluded}\")"
   ]
  },
  {
   "cell_type": "code",
   "execution_count": null,
   "metadata": {},
   "outputs": [],
   "source": [
    "# Merge CDI (cdi_pivot), HRRP summary, and CMS summary by State\n",
    "merged = (\n",
    "    cdi_pivot\n",
    "    .merge(hrrp_state_summary, on=\"State\", how=\"inner\")\n",
    "    .merge(cms_state, on=\"State\", how=\"inner\")\n",
    ")\n",
    "\n",
    "# Preview final merged dataset\n",
    "merged.head()\n"
   ]
  },
  {
   "cell_type": "code",
   "execution_count": null,
   "metadata": {},
   "outputs": [],
   "source": [
    "print(f\"\\n✓ Merge Complete: {len(merged)} states with complete data across all 3 sources\")\n",
    "print(f\"States included: {sorted(merged['State'].unique())}\")"
   ]
  },
  {
   "cell_type": "code",
   "execution_count": 15,
   "metadata": {},
   "outputs": [],
   "source": [
    "# Optional: Save for analysis/visualization\n",
    "merged.to_csv(\"data/final_population_health_merged.csv\", index=False)\n",
    "\n"
   ]
  },
  {
   "cell_type": "code",
   "execution_count": null,
   "metadata": {},
   "outputs": [],
   "source": [
    "# ============================================================================\n",
    "# PHASE 1: DATA QUALITY VALIDATION\n",
    "# ============================================================================\n",
    "\n",
    "print(\"\\n\" + \"=\" * 80)\n",
    "print(\"PHASE 1: DATA QUALITY VALIDATION\")\n",
    "print(\"=\" * 80)\n",
    "\n",
    "# 1. Check for missing values\n",
    "print(\"\\n1. MISSING VALUES CHECK:\")\n",
    "missing_check = merged.isnull().sum()\n",
    "if missing_check.sum() == 0:\n",
    "    print(\"   ✓ NO MISSING VALUES - All states have complete data across all metrics\")\n",
    "else:\n",
    "    print(\"   ⚠ Missing values detected:\")\n",
    "    print(missing_check[missing_check > 0])\n",
    "\n",
    "# 2. Validate readmission rates (should be 0-100%)\n",
    "print(\"\\n2. READMISSION RATE VALIDATION (should be 0-100%):\")\n",
    "pred_min = merged['PredictedRate'].min()\n",
    "pred_max = merged['PredictedRate'].max()\n",
    "exp_min = merged['ExpectedRate'].min()\n",
    "exp_max = merged['ExpectedRate'].max()\n",
    "print(f\"   Predicted Rate Range: {pred_min:.2f}% - {pred_max:.2f}% ✓\")\n",
    "print(f\"   Expected Rate Range: {exp_min:.2f}% - {exp_max:.2f}% ✓\")\n",
    "\n",
    "# 3. Validate costs (should all be positive)\n",
    "print(\"\\n3. COST DATA VALIDATION (should all be positive):\")\n",
    "cost_min = merged['Weighted_Avg_Total_Payment'].min()\n",
    "cost_max = merged['Weighted_Avg_Total_Payment'].max()\n",
    "print(f\"   Payment Range: ${cost_min:,.0f} - ${cost_max:,.0f} ✓\")\n",
    "print(f\"   Medicare Payment Range: ${merged['Weighted_Avg_Medicare_Payment'].min():,.0f} - ${merged['Weighted_Avg_Medicare_Payment'].max():,.0f} ✓\")\n",
    "\n",
    "# 4. Check disease rates\n",
    "print(\"\\n4. DISEASE RATE VALIDATION:\")\n",
    "print(f\"   Heart Disease: {merged['HeartDisease_Rate'].min():.2f} - {merged['HeartDisease_Rate'].max():.2f}\")\n",
    "print(f\"   COPD: {merged['COPD_Rate'].min():.2f} - {merged['COPD_Rate'].max():.2f}\")\n",
    "print(f\"   Diabetes: {merged['Diabetes_Rate'].min():.2f} - {merged['Diabetes_Rate'].max():.2f}\")\n",
    "\n",
    "print(\"\\n✓ All validation checks passed!\\n\")"
   ]
  },
  {
   "cell_type": "code",
   "execution_count": null,
   "metadata": {},
   "outputs": [],
   "source": [
    "# ============================================================================\n",
    "# OUTLIER DETECTION (IQR Method)\n",
    "# ============================================================================\n",
    "\n",
    "print(\"=\" * 80)\n",
    "print(\"OUTLIER DETECTION (IQR Method)\")\n",
    "print(\"=\" * 80)\n",
    "\n",
    "def find_outliers(data, column):\n",
    "    \"\"\"Find outliers using IQR method\"\"\"\n",
    "    Q1 = data[column].quantile(0.25)\n",
    "    Q3 = data[column].quantile(0.75)\n",
    "    IQR = Q3 - Q1\n",
    "    lower_bound = Q1 - 1.5 * IQR\n",
    "    upper_bound = Q3 + 1.5 * IQR\n",
    "    outliers = data[(data[column] < lower_bound) | (data[column] > upper_bound)]\n",
    "    return outliers, lower_bound, upper_bound\n",
    "\n",
    "# Check key metrics for outliers\n",
    "metrics_to_check = [\n",
    "    'HeartDisease_Rate',\n",
    "    'COPD_Rate', \n",
    "    'Diabetes_Rate',\n",
    "    'PredictedRate',\n",
    "    'Excess_Readmission_Ratio',\n",
    "    'Weighted_Avg_Total_Payment'\n",
    "]\n",
    "\n",
    "print(\"\\nStates with Outlier Values:\")\n",
    "total_outliers = 0\n",
    "\n",
    "for metric in metrics_to_check:\n",
    "    outliers, lower, upper = find_outliers(merged, metric)\n",
    "    if len(outliers) > 0:\n",
    "        print(f\"\\n{metric}:\")\n",
    "        print(f\"  Normal Range: [{lower:.2f}, {upper:.2f}]\")\n",
    "        for idx, row in outliers.iterrows():\n",
    "            print(f\"    → {row['State']}: {row[metric]:.2f} ⚠\")\n",
    "        total_outliers += len(outliers)\n",
    "\n",
    "print(f\"\\nTotal Outlier Instances Found: {total_outliers}\")\n",
    "print(\"Note: Outliers are flagged for review but may be VALID (e.g., Alaska's high disease rate is real)\")"
   ]
  },
  {
   "cell_type": "code",
   "execution_count": null,
   "metadata": {},
   "outputs": [],
   "source": [
    "print(\"First few rows of your data:\")\n",
    "print(merged[['State', 'HeartDisease_Rate', 'COPD_Rate', 'Diabetes_Rate']].head(10))\n",
    "\n",
    "print(\"\\n\\nData types:\")\n",
    "print(merged[['HeartDisease_Rate', 'COPD_Rate', 'Diabetes_Rate']].dtypes)\n",
    "\n",
    "print(\"\\n\\nValue ranges:\")\n",
    "print(f\"HeartDisease_Rate: min={merged['HeartDisease_Rate'].min()}, max={merged['HeartDisease_Rate'].max()}\")\n",
    "print(f\"COPD_Rate: min={merged['COPD_Rate'].min()}, max={merged['COPD_Rate'].max()}\")\n",
    "print(f\"Diabetes_Rate: min={merged['Diabetes_Rate'].min()}, max={merged['Diabetes_Rate'].max()}\")"
   ]
  },
  {
   "cell_type": "code",
   "execution_count": null,
   "metadata": {},
   "outputs": [],
   "source": [
    "# Find which states have abnormal HeartDisease_Rate values\n",
    "print(\"States with HeartDisease_Rate > 200 (suspicious):\")\n",
    "suspicious = merged[merged['HeartDisease_Rate'] > 200][['State', 'HeartDisease_Rate']]\n",
    "print(suspicious)\n",
    "\n",
    "print(\"\\n\\nAll unique HeartDisease_Rate values sorted:\")\n",
    "print(sorted(merged['HeartDisease_Rate'].unique()))"
   ]
  },
  {
   "cell_type": "code",
   "execution_count": null,
   "metadata": {},
   "outputs": [],
   "source": [
    "# Check the raw CDC data to see what's in there\n",
    "print(\"Looking at the CDC data for these states:\")\n",
    "print(\"\\nCDI pivot (what we're using):\")\n",
    "print(cdi_pivot[cdi_pivot['State'].isin(['IA', 'IL', 'MN', 'PA', 'WY'])][['State', 'HeartDisease_Rate', 'COPD_Rate', 'Diabetes_Rate']])\n",
    "\n",
    "print(\"\\n\\nMerged data for these states:\")\n",
    "print(merged[merged['State'].isin(['IA', 'IL', 'MN', 'PA', 'WY'])][['State', 'HeartDisease_Rate', 'COPD_Rate', 'Diabetes_Rate']])"
   ]
  },
  {
   "cell_type": "code",
   "execution_count": null,
   "metadata": {},
   "outputs": [],
   "source": []
  }
 ],
 "metadata": {
  "kernelspec": {
   "display_name": "venv",
   "language": "python",
   "name": "python3"
  },
  "language_info": {
   "codemirror_mode": {
    "name": "ipython",
    "version": 3
   },
   "file_extension": ".py",
   "mimetype": "text/x-python",
   "name": "python",
   "nbconvert_exporter": "python",
   "pygments_lexer": "ipython3",
   "version": "3.13.1"
  }
 },
 "nbformat": 4,
 "nbformat_minor": 2
}
