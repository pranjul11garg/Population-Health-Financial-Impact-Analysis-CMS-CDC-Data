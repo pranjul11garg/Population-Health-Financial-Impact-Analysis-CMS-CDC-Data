{
 "cells": [
  {
   "cell_type": "markdown",
   "metadata": {},
   "source": [
    "### **Problem Statement: Do states with higher chronic disease burden and higher hospital readmissions also have higher inpatient treatment costs?**\n",
    "\n",
    "- Working on a Population Health Financial Impact Analysis, using three major U.S. healthcare datasets (CMS + HRRP + CDC) to explore how population health outcomes relate to financial and hospital performance metrics.\n",
    "- https://data.cms.gov/ (CMS Datasets)\n",
    "- https://data.cms.gov/ (HRRP Dataset)\n",
    "- https://chronicdata.cdc.gov/ (Chronic Dataset)\n",
    "- Studying the relationship between population health, readmissions, and costs \n",
    "- Goal is state-level comparison (e.g., “Which states are expensive and unhealthy?”),"
   ]
  },
  {
   "cell_type": "markdown",
   "metadata": {},
   "source": [
    "#### Financial Data"
   ]
  },
  {
   "cell_type": "markdown",
   "metadata": {},
   "source": [
    "### CMS Data Cleaning and State-Level Aggregation\n",
    "\n",
    "This step processes the **Medicare Inpatient Hospital dataset** to align it with our Population Health project.  \n",
    "Each hospital record lists average costs per DRG (Diagnosis Related Group).  \n",
    "To merge it meaningfully with HRRP (readmission) and CDC (chronic disease) datasets — both aggregated by **state** —  \n",
    "we need to summarize CMS data to the **state level**.\n",
    "\n",
    "We calculate **weighted averages** for financial metrics (covered charges, total payments, Medicare payments)  \n",
    "using the number of discharges as the weight.  \n",
    "This ensures that procedures with higher patient volume contribute proportionally more to the state’s average cost.  \n",
    "The result is a single record per state showing the overall financial impact of inpatient care.\n"
   ]
  },
  {
   "cell_type": "markdown",
   "metadata": {},
   "source": [
    "Columns to keep!\n",
    "- Rndrng_Prvdr_State_Abrvtn (Provider State)\n",
    "- DRG_Desc (DRG Definition)\n",
    "- Tot_Dschrgs (Total Discharges)\n",
    "- Avg_Submtd_Cvrd_Chrg\t(Average Covered Charges)\n",
    "- Avg_Tot_Pymt_Amt (Average Total Payments)\n",
    "- Avg_Mdcr_Pymt_Amt (Average payment from Medicare)\n",
    "\n",
    "\n"
   ]
  },
  {
   "cell_type": "code",
   "execution_count": null,
   "metadata": {},
   "outputs": [],
   "source": [
    "import pandas as pd\n",
    "\n",
    "columns_to_keep = [\n",
    "    \"Rndrng_Prvdr_State_Abrvtn\",\n",
    "    \"DRG_Desc\",\n",
    "    \"Tot_Dschrgs\",\n",
    "    \"Avg_Submtd_Cvrd_Chrg\",\n",
    "    \"Avg_Tot_Pymt_Amt\",\n",
    "    \"Avg_Mdcr_Pymt_Amt\"\n",
    "]\n",
    "\n",
    "cms = pd.read_csv(\n",
    "    \"data/inpatient.csv\",\n",
    "    usecols=columns_to_keep,\n",
    "    encoding=\"windows-1252\",\n",
    "    low_memory=False\n",
    ")\n",
    "\n",
    "cms = cms.rename(columns={\n",
    "    \"Rndrng_Prvdr_State_Abrvtn\": \"State\",\n",
    "    \"DRG_Desc\": \"DRG_Def\",\n",
    "    \"Avg_Submtd_Cvrd_Chrg\": \"Avg_Covered_Charges\",\n",
    "    \"Avg_Tot_Pymt_Amt\": \"Avg_Total_Payment\",\n",
    "    \"Tot_Dschrgs\": \"Total_Discharges\",\n",
    "    \"Avg_Mdcr_Pymt_Amt\":\"Avg_Medicare_Payment\"\n",
    "})\n",
    "cms.isnull().sum()\n"
   ]
  },
  {
   "cell_type": "code",
   "execution_count": null,
   "metadata": {},
   "outputs": [],
   "source": [
    "#filtering chronic diseases\n",
    "chronic_drgs = [\"HEART FAILURE\", \"CHRONIC OBSTRUCTIVE PULMONARY DISEASE \", \"DIABETES\"]\n",
    "cms = cms[cms[\"DRG_Def\"].str.contains('|'.join(chronic_drgs), case=False, na=False)]\n",
    "\n",
    "# Step 4 — Create weighted totals\n",
    "cms[\"w_cov\"] = cms[\"Avg_Covered_Charges\"] * cms[\"Total_Discharges\"]\n",
    "cms[\"w_tot\"] = cms[\"Avg_Total_Payment\"] * cms[\"Total_Discharges\"]\n",
    "cms[\"w_mcr\"] = cms[\"Avg_Medicare_Payment\"] * cms[\"Total_Discharges\"]\n",
    "\n",
    "# Step 5 — Aggregate by state (weighted averages)\n",
    "cms_state = cms.groupby(\"State\", as_index=False).agg({\n",
    "    \"Total_Discharges\": \"sum\",\n",
    "    \"w_cov\": \"sum\",\n",
    "    \"w_tot\": \"sum\",\n",
    "    \"w_mcr\": \"sum\"\n",
    "})\n",
    "\n",
    "cms_state[\"Weighted_Avg_Covered_Charges\"] = cms_state[\"w_cov\"] / cms_state[\"Total_Discharges\"]\n",
    "cms_state[\"Weighted_Avg_Total_Payment\"] = cms_state[\"w_tot\"] / cms_state[\"Total_Discharges\"]\n",
    "cms_state[\"Weighted_Avg_Medicare_Payment\"] = cms_state[\"w_mcr\"] / cms_state[\"Total_Discharges\"]\n",
    "\n",
    "# Step 6 — Final cleaned output\n",
    "cms_state = cms_state[[\n",
    "    \"State\", \"Total_Discharges\",\n",
    "    \"Weighted_Avg_Covered_Charges\",\n",
    "    \"Weighted_Avg_Total_Payment\",\n",
    "    \"Weighted_Avg_Medicare_Payment\"\n",
    "]]\n",
    "cms_state.head()\n"
   ]
  },
  {
   "cell_type": "markdown",
   "metadata": {},
   "source": [
    "We filtered the CMS dataset to keep only chronic disease-related DRGs (Heart Failure, COPD, Diabetes, Pneumonia, and Myocardial Infarction) — these will align with HRRP readmission categories.\n",
    "Then, we aggregated by state using weighted averages based on the number of discharges.\n",
    "This ensures each state’s cost measures reflect its hospital activity volume, giving fair comparisons across states."
   ]
  },
  {
   "cell_type": "markdown",
   "metadata": {},
   "source": [
    "## Patient Readmission Data"
   ]
  },
  {
   "cell_type": "code",
   "execution_count": null,
   "metadata": {},
   "outputs": [],
   "source": [
    "hrrp = pd.read_csv(\"data/readmission_hrrp.csv\")\n",
    "columns_to_keep = [\"Facility Name\", \"State\", \"Measure Name\", \"Predicted Readmission Rate\", \"Expected Readmission Rate\",\"Excess Readmission Ratio\", \"Number of Discharges\"]\n",
    "hrrp = hrrp[columns_to_keep]\n",
    "hrrp.isnull().sum()\n"
   ]
  },
  {
   "cell_type": "code",
   "execution_count": null,
   "metadata": {},
   "outputs": [],
   "source": [
    "hrrp = hrrp.dropna(subset=[\"Predicted Readmission Rate\", \"Expected Readmission Rate\"])\n",
    "#keeping the rows where the predicted and the expected readmission rate is available.\n",
    "hrrp = hrrp[hrrp[\"Number of Discharges\"].fillna(0) > 0]\n",
    "hrrp.head()\n"
   ]
  },
  {
   "cell_type": "markdown",
   "metadata": {},
   "source": [
    "#### Keeping the chronic diseases which are more common\n",
    "- \"READM-30-HF\",      # Heart Failure\n",
    "- \"READM-30-COPD\",    # Chronic Obstructive Pulmonary Disease\n",
    "-  \"READM-30-DIABETES\",# Diabetes\n",
    "\n"
   ]
  },
  {
   "cell_type": "code",
   "execution_count": null,
   "metadata": {},
   "outputs": [],
   "source": [
    "chronic_measures = [\n",
    "    \"READM-30-HF-HRRP\",      # Heart Failure\n",
    "    \"READM-30-COPD-HRRP\",    # Chronic Obstructive Pulmonary Disease\n",
    "    \"READM-30-DIABETES-HRRP\",# Diabetes\n",
    "]\n",
    "\n",
    "hrrp = hrrp[hrrp[\"Measure Name\"].isin(chronic_measures)]\n",
    "hrrp.head()"
   ]
  },
  {
   "cell_type": "markdown",
   "metadata": {},
   "source": [
    "### Weighted + State Aggregation of readmission dataset"
   ]
  },
  {
   "cell_type": "code",
   "execution_count": 8,
   "metadata": {},
   "outputs": [],
   "source": [
    "# Step 1 — create weighted columns\n",
    "hrrp[\"w_pred\"] = hrrp[\"Predicted Readmission Rate\"] * hrrp[\"Number of Discharges\"]\n",
    "hrrp[\"w_exp\"]  = hrrp[\"Expected Readmission Rate\"]  * hrrp[\"Number of Discharges\"]\n",
    "\n",
    "# Step 2 — get weighted averages by State and Measure Name\n",
    "hrrp_state = (\n",
    "    hrrp.groupby([\"State\", \"Measure Name\"], as_index=False)\n",
    "    .agg({\n",
    "        \"w_pred\": \"sum\",\n",
    "        \"w_exp\": \"sum\",\n",
    "        \"Number of Discharges\": \"sum\"\n",
    "    })\n",
    ")\n"
   ]
  },
  {
   "cell_type": "code",
   "execution_count": null,
   "metadata": {},
   "outputs": [],
   "source": [
    "# Step 3 — calculate weighted averages and ratio\n",
    "hrrp_state[\"PredictedRate\"] = hrrp_state[\"w_pred\"] / hrrp_state[\"Number of Discharges\"]\n",
    "hrrp_state[\"ExpectedRate\"]  = hrrp_state[\"w_exp\"]  / hrrp_state[\"Number of Discharges\"]\n",
    "hrrp_state[\"Excess_Readmission_Ratio\"] = hrrp_state[\"PredictedRate\"] / hrrp_state[\"ExpectedRate\"]\n",
    "\n",
    "# Step 4 — optional: aggregate to one row per State\n",
    "hrrp_state_summary = (\n",
    "    hrrp_state.groupby(\"State\", as_index=False)\n",
    "    .agg({\n",
    "        \"PredictedRate\": \"mean\",\n",
    "        \"ExpectedRate\": \"mean\",\n",
    "        \"Excess_Readmission_Ratio\": \"mean\",\n",
    "        \"Number of Discharges\": \"sum\"\n",
    "    })\n",
    ")\n",
    "\n",
    "# Step 5 — save or check results\n",
    "hrrp_state_summary.to_csv(\"data/hrrp_state_summary.csv\", index=False)\n",
    "hrrp_state_summary.head()"
   ]
  },
  {
   "cell_type": "markdown",
   "metadata": {},
   "source": [
    "After the cleaning of hrrp, what I have done is aggregate the data on the basis of **weighted average of predicted readmission rate, expected ratio and expected readmission rate** & **STATE**\n",
    "\n",
    "#### Why Use a Weighted Average for Readmission Rates?\n",
    "\n",
    "Each hospital reports its **Predicted** and **Expected Readmission Rates**,  \n",
    "but hospitals differ greatly in size — some treat thousands of patients,  \n",
    "while others handle only a few hundred.\n",
    "\n",
    "If we took a *simple average*, a small hospital and a large hospital  \n",
    "would have the **same influence** on the overall state rate.  \n",
    "That would make the comparison unfair and not reflect the true population outcome.\n",
    "\n",
    "A **weighted average** fixes this by giving more importance to hospitals  \n",
    "that handle more discharges (i.e., treat more patients).\n",
    "\n",
    "\n",
    "### Why It Matters\n",
    "- Ensures that larger hospitals contribute proportionally to state-level metrics.  \n",
    "- Produces a more accurate and fair representation of real-world outcomes.  \n",
    "- Prevents small hospitals from skewing the overall average.\n",
    "\n"
   ]
  },
  {
   "cell_type": "markdown",
   "metadata": {},
   "source": [
    "### SUMMARY\n",
    "WHAT I HAVE DONE HERE IS, CLEANED THE DATASETS AND MADE IT READY FOR MERGE.\n",
    "**Kept only the most recent year for the CDI as the CMS data is of 2023 and the hrrp data is from 2020 to 2023**\n",
    "\n",
    "### 1. **FINANCIAL DATA: cms_state**\n",
    "    HERE, I HAVE ONLY FETCHED THE COLUMNS WHICH ARE USEFUL LIKE:\n",
    "- Rndrng_Prvdr_State_Abrvtn (Provider State)\n",
    "- DRG_Desc (DRG Definition)\n",
    "- Tot_Dschrgs (Total Discharges)\n",
    "- Avg_Submtd_Cvrd_Chrg\t(Average Covered Charges)\n",
    "- Avg_Tot_Pymt_Amt (Average Total Payments)\n",
    "- Avg_Mdcr_Pymt_Amt (Average payment from Medicare)\n",
    "  \n",
    "We filtered the CMS dataset to keep only chronic disease-related DRGs (Heart Failure, COPD, Diabetes),\n",
    "these align with HRRP readmission categories.\n",
    "Then, we aggregated by state using **weighted averages based on the number of discharges.**\n",
    "This ensures each state’s cost measures reflect its hospital activity volume, giving fair comparisons across states. \n",
    "\n",
    "### 2. **CHRONIC DISEASE INDICATIOR : cdi_pivot**\n",
    " Preparing CDC Chronic Disease Indicators (CDI) Data\n",
    "\n",
    "In this step, we filtered and cleaned the CDC Chronic Disease Indicators dataset to focus on four key chronic health conditions — **Diabetes, Cardiovascular Disease, and COPD** — across all available years.\n",
    "\n",
    "We then:\n",
    "- Selected only relevant columns (**State, Topic, DataValue, YearStart**)\n",
    "- Converted all values to numeric by removing commas and percentage symbols\n",
    "- Renamed columns for consistency (DataValue → Value, YearStart → Year)\n",
    "- Kept latest year\n",
    "  \n",
    "**This cleaned dataset (cdi_filtered) allows us to analyze how chronic disease prevalence has changed over time in each state, forming the foundation for comparing health outcomes with hospital readmissions and financial costs.**\n",
    "\n",
    "  \n",
    "\n",
    "### 3. **READMISSION DATA: hrrp_state_summaryw**\n",
    "      HERE, I HAVE ONLY FETCHED THE COLUMNS WHICH ARE USEFUL LIKE:\n",
    "#### columns to keep\n",
    "-  \"Facility Name\", \n",
    "-  \"State\",\n",
    "-   \"Measure Name\",\n",
    "-    \"Predicted Readmission Rate\", \n",
    "-    \"Expected Readmission Rate\",\n",
    "-    \"Excess Readmission Ratio\", \n",
    "-    \"Number of Discharges\"\n",
    "#### Keeping the chronic diseases which are more common\n",
    "- \"READM-30-HF\",      # Heart Failure\n",
    "- \"READM-30-COPD\",    # Chronic Obstructive Pulmonary Disease\n",
    "-  \"READM-30-DIABETES\",# Diabetes\n",
    "\n"
   ]
  },
  {
   "cell_type": "code",
   "execution_count": null,
   "metadata": {},
   "outputs": [],
   "source": [
    "# --- Top disease topics in CDI ---\n",
    "print(\"Top 5 Topics in CDI:\")\n",
    "print(cdi[\"Topic\"].value_counts().head(5))\n",
    "print(\"\\n\")\n",
    "\n",
    "# --- Top readmission measures in HRRP ---\n",
    "print(\"Top 5 Conditions in HRRP:\")\n",
    "print(hrrp[\"Measure Name\"].value_counts().head(5))\n",
    "print(\"\\n\")\n",
    "\n",
    "\n"
   ]
  },
  {
   "cell_type": "code",
   "execution_count": null,
   "metadata": {},
   "outputs": [],
   "source": [
    "# See which states are missing from each dataset\n",
    "print(\"States in CDI:\", sorted(cdi_pivot['State'].unique()))\n",
    "print(\"States in HRRP:\", sorted(hrrp_state_summary['State'].unique()))\n",
    "print(\"States in CMS:\", sorted(cms_state['State'].unique()))"
   ]
  },
  {
   "cell_type": "code",
   "execution_count": null,
   "metadata": {},
   "outputs": [],
   "source": [
    "all_cdi_states = set(cdi_pivot['State'].unique())\n",
    "all_hrrp_states = set(hrrp_state_summary['State'].unique())\n",
    "territories_excluded = all_cdi_states - all_hrrp_states\n",
    "print(f\"Territories/Aggregates Excluded: {territories_excluded}\")"
   ]
  },
  {
   "cell_type": "code",
   "execution_count": null,
   "metadata": {},
   "outputs": [],
   "source": [
    "# Merge CDI (cdi_pivot), HRRP summary, and CMS summary by State\n",
    "merged = (\n",
    "    cdi_pivot\n",
    "    .merge(hrrp_state_summary, on=\"State\", how=\"inner\")\n",
    "    .merge(cms_state, on=\"State\", how=\"inner\")\n",
    ")\n",
    "\n",
    "# Preview final merged dataset\n",
    "merged.head()\n"
   ]
  },
  {
   "cell_type": "code",
   "execution_count": null,
   "metadata": {},
   "outputs": [],
   "source": [
    "print(f\"\\n✓ Merge Complete: {len(merged)} states with complete data across all 3 sources\")\n",
    "print(f\"States included: {sorted(merged['State'].unique())}\")"
   ]
  },
  {
   "cell_type": "code",
   "execution_count": 15,
   "metadata": {},
   "outputs": [],
   "source": [
    "# Optional: Save for analysis/visualization\n",
    "merged.to_csv(\"data/final_population_health_merged.csv\", index=False)\n"
   ]
  },
  {
   "cell_type": "code",
   "execution_count": null,
   "metadata": {},
   "outputs": [],
   "source": [
    "# ============================================================================\n",
    "# PHASE 1: DATA QUALITY VALIDATION\n",
    "# ============================================================================\n",
    "\n",
    "print(\"\\n\" + \"=\" * 80)\n",
    "print(\"PHASE 1: DATA QUALITY VALIDATION\")\n",
    "print(\"=\" * 80)\n",
    "\n",
    "# 1. Check for missing values\n",
    "print(\"\\n1. MISSING VALUES CHECK:\")\n",
    "missing_check = merged.isnull().sum()\n",
    "if missing_check.sum() == 0:\n",
    "    print(\"   ✓ NO MISSING VALUES - All states have complete data across all metrics\")\n",
    "else:\n",
    "    print(\"   ⚠ Missing values detected:\")\n",
    "    print(missing_check[missing_check > 0])\n",
    "\n",
    "# 2. Validate readmission rates (should be 0-100%)\n",
    "print(\"\\n2. READMISSION RATE VALIDATION (should be 0-100%):\")\n",
    "pred_min = merged['PredictedRate'].min()\n",
    "pred_max = merged['PredictedRate'].max()\n",
    "exp_min = merged['ExpectedRate'].min()\n",
    "exp_max = merged['ExpectedRate'].max()\n",
    "print(f\"   Predicted Rate Range: {pred_min:.2f}% - {pred_max:.2f}% ✓\")\n",
    "print(f\"   Expected Rate Range: {exp_min:.2f}% - {exp_max:.2f}% ✓\")\n",
    "\n",
    "# 3. Validate costs (should all be positive)\n",
    "print(\"\\n3. COST DATA VALIDATION (should all be positive):\")\n",
    "cost_min = merged['Weighted_Avg_Total_Payment'].min()\n",
    "cost_max = merged['Weighted_Avg_Total_Payment'].max()\n",
    "print(f\"   Payment Range: ${cost_min:,.0f} - ${cost_max:,.0f} ✓\")\n",
    "print(f\"   Medicare Payment Range: ${merged['Weighted_Avg_Medicare_Payment'].min():,.0f} - ${merged['Weighted_Avg_Medicare_Payment'].max():,.0f} ✓\")\n",
    "\n",
    "# 4. Check disease rates\n",
    "print(\"\\n4. DISEASE RATE VALIDATION:\")\n",
    "print(f\"   Heart Disease: {merged['HeartDisease_Rate'].min():.2f} - {merged['HeartDisease_Rate'].max():.2f}\")\n",
    "print(f\"   COPD: {merged['COPD_Rate'].min():.2f} - {merged['COPD_Rate'].max():.2f}\")\n",
    "print(f\"   Diabetes: {merged['Diabetes_Rate'].min():.2f} - {merged['Diabetes_Rate'].max():.2f}\")\n",
    "\n",
    "print(\"\\n✓ All validation checks passed!\\n\")"
   ]
  },
  {
   "cell_type": "code",
   "execution_count": null,
   "metadata": {},
   "outputs": [],
   "source": [
    "# ============================================================================\n",
    "# OUTLIER DETECTION (IQR Method)\n",
    "# ============================================================================\n",
    "\n",
    "print(\"=\" * 80)\n",
    "print(\"OUTLIER DETECTION (IQR Method)\")\n",
    "print(\"=\" * 80)\n",
    "\n",
    "def find_outliers(data, column):\n",
    "    \"\"\"Find outliers using IQR method\"\"\"\n",
    "    Q1 = data[column].quantile(0.25)\n",
    "    Q3 = data[column].quantile(0.75)\n",
    "    IQR = Q3 - Q1\n",
    "    lower_bound = Q1 - 1.5 * IQR\n",
    "    upper_bound = Q3 + 1.5 * IQR\n",
    "    outliers = data[(data[column] < lower_bound) | (data[column] > upper_bound)]\n",
    "    return outliers, lower_bound, upper_bound\n",
    "\n",
    "# Check key metrics for outliers\n",
    "metrics_to_check = [\n",
    "    'HeartDisease_Rate',\n",
    "    'COPD_Rate', \n",
    "    'Diabetes_Rate',\n",
    "    'PredictedRate',\n",
    "    'Excess_Readmission_Ratio',\n",
    "    'Weighted_Avg_Total_Payment'\n",
    "]\n",
    "\n",
    "print(\"\\nStates with Outlier Values:\")\n",
    "total_outliers = 0\n",
    "\n",
    "for metric in metrics_to_check:\n",
    "    outliers, lower, upper = find_outliers(merged, metric)\n",
    "    if len(outliers) > 0:\n",
    "        print(f\"\\n{metric}:\")\n",
    "        print(f\"  Normal Range: [{lower:.2f}, {upper:.2f}]\")\n",
    "        for idx, row in outliers.iterrows():\n",
    "            print(f\"    → {row['State']}: {row[metric]:.2f} ⚠\")\n",
    "        total_outliers += len(outliers)\n",
    "\n",
    "print(f\"\\nTotal Outlier Instances Found: {total_outliers}\")\n",
    "print(\"Note: Outliers are flagged for review but may be VALID (e.g., Alaska's high disease rate is real)\")"
   ]
  },
  {
   "cell_type": "code",
   "execution_count": null,
   "metadata": {},
   "outputs": [],
   "source": [
    "print(\"First few rows of your data:\")\n",
    "print(merged[['State', 'HeartDisease_Rate', 'COPD_Rate', 'Diabetes_Rate']].head(10))\n",
    "\n",
    "print(\"\\n\\nData types:\")\n",
    "print(merged[['HeartDisease_Rate', 'COPD_Rate', 'Diabetes_Rate']].dtypes)\n",
    "\n",
    "print(\"\\n\\nValue ranges:\")\n",
    "print(f\"HeartDisease_Rate: min={merged['HeartDisease_Rate'].min()}, max={merged['HeartDisease_Rate'].max()}\")\n",
    "print(f\"COPD_Rate: min={merged['COPD_Rate'].min()}, max={merged['COPD_Rate'].max()}\")\n",
    "print(f\"Diabetes_Rate: min={merged['Diabetes_Rate'].min()}, max={merged['Diabetes_Rate'].max()}\")"
   ]
  },
  {
   "cell_type": "code",
   "execution_count": null,
   "metadata": {},
   "outputs": [],
   "source": [
    "# Find which states have abnormal HeartDisease_Rate values\n",
    "print(\"States with HeartDisease_Rate > 200 (suspicious):\")\n",
    "suspicious = merged[merged['HeartDisease_Rate'] > 200][['State', 'HeartDisease_Rate']]\n",
    "print(suspicious)\n",
    "\n",
    "print(\"\\n\\nAll unique HeartDisease_Rate values sorted:\")\n",
    "print(sorted(merged['HeartDisease_Rate'].unique()))"
   ]
  },
  {
   "cell_type": "code",
   "execution_count": null,
   "metadata": {},
   "outputs": [],
   "source": [
    "# Check the raw CDC data to see what's in there\n",
    "print(\"Looking at the CDC data for these states:\")\n",
    "print(\"\\nCDI pivot (what we're using):\")\n",
    "print(cdi_pivot[cdi_pivot['State'].isin(['IA', 'IL', 'MN', 'PA', 'WY'])][['State', 'HeartDisease_Rate', 'COPD_Rate', 'Diabetes_Rate']])\n",
    "\n",
    "print(\"\\n\\nMerged data for these states:\")\n",
    "print(merged[merged['State'].isin(['IA', 'IL', 'MN', 'PA', 'WY'])][['State', 'HeartDisease_Rate', 'COPD_Rate', 'Diabetes_Rate']])"
   ]
  },
  {
   "cell_type": "code",
   "execution_count": null,
   "metadata": {},
   "outputs": [],
   "source": []
  }
 ],
 "metadata": {
  "kernelspec": {
   "display_name": "venv",
   "language": "python",
   "name": "python3"
  },
  "language_info": {
   "codemirror_mode": {
    "name": "ipython",
    "version": 3
   },
   "file_extension": ".py",
   "mimetype": "text/x-python",
   "name": "python",
   "nbconvert_exporter": "python",
   "pygments_lexer": "ipython3",
   "version": "3.13.1"
  }
 },
 "nbformat": 4,
 "nbformat_minor": 2
}
